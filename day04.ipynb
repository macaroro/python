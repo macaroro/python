{
 "cells": [
  {
   "cell_type": "code",
   "execution_count": 1,
   "id": "ad4e47ce-6ee9-45a1-83a6-b4f562e96fac",
   "metadata": {},
   "outputs": [
    {
     "data": {
      "text/plain": [
       "range(0, 10)"
      ]
     },
     "execution_count": 1,
     "metadata": {},
     "output_type": "execute_result"
    }
   ],
   "source": [
    "r=range(0,10)\n",
    "r"
   ]
  },
  {
   "cell_type": "code",
   "execution_count": 15,
   "id": "297fd336-7f86-47c3-87f7-53e1ddaa3634",
   "metadata": {},
   "outputs": [
    {
     "data": {
      "text/plain": [
       "[0, 1, 2, 3, 4, 5, 6, 7, 8, 9]"
      ]
     },
     "execution_count": 15,
     "metadata": {},
     "output_type": "execute_result"
    }
   ],
   "source": [
    "list(r)"
   ]
  },
  {
   "cell_type": "code",
   "execution_count": 1,
   "id": "5d521e1f-7f3e-4f32-96e3-0eccae21a4d7",
   "metadata": {},
   "outputs": [],
   "source": [
    "def list_sum(nums):\n",
    "    print(sum(nums))\n"
   ]
  },
  {
   "cell_type": "code",
   "execution_count": 2,
   "id": "231ae61e-2865-4bbf-9f7e-7b3d51ae0ab6",
   "metadata": {},
   "outputs": [
    {
     "name": "stdout",
     "output_type": "stream",
     "text": [
      "30\n"
     ]
    }
   ],
   "source": [
    "list_sum([10,20])"
   ]
  },
  {
   "cell_type": "code",
   "execution_count": 22,
   "id": "a23ee0dd-4e32-4247-878c-532375e74395",
   "metadata": {},
   "outputs": [],
   "source": [
    "def add_num(a,b):\n",
    "    c=a+b\n",
    "    print(f\"{a}+{b}={c}\")"
   ]
  },
  {
   "cell_type": "code",
   "execution_count": 30,
   "id": "0b8a89d4-8141-4bd6-8479-49b106975cc4",
   "metadata": {},
   "outputs": [
    {
     "name": "stdout",
     "output_type": "stream",
     "text": [
      "5+-5=0\n"
     ]
    }
   ],
   "source": [
    "add_num(5,-5)"
   ]
  },
  {
   "cell_type": "code",
   "execution_count": 32,
   "id": "ecc54efe-7dac-4866-a4b0-ba77dc80ab7e",
   "metadata": {},
   "outputs": [
    {
     "name": "stdin",
     "output_type": "stream",
     "text": [
      "더할 여러 숫자를 공백으로 구분해 입력: 44 55 99 66 \n"
     ]
    },
    {
     "name": "stdout",
     "output_type": "stream",
     "text": [
      "264\n"
     ]
    }
   ],
   "source": [
    "x = input('더할 여러 숫자를 공백으로 구분해 입력:').split()\n",
    "\n",
    "def sum_all(a):\n",
    "\n",
    "    sum = 0\n",
    "\n",
    "    for i in range(len(a)):\n",
    "\n",
    "        sum = sum + int(a[i])\n",
    "\n",
    "    return sum\n",
    "\n",
    "print(sum_all(x))"
   ]
  },
  {
   "cell_type": "code",
   "execution_count": 4,
   "id": "57832388-ffd7-4e6c-999e-ecb3a569cad2",
   "metadata": {},
   "outputs": [],
   "source": [
    "def sum_it(*arg):\n",
    "    print(sum(arg))"
   ]
  },
  {
   "cell_type": "code",
   "execution_count": 5,
   "id": "31588961-8ecf-46ae-b123-8e1b2818a200",
   "metadata": {},
   "outputs": [
    {
     "name": "stdout",
     "output_type": "stream",
     "text": [
      "1\n",
      "6\n",
      "15\n"
     ]
    }
   ],
   "source": [
    "sum_it(1)\n",
    "sum_it(1,2,3)\n",
    "sum_it(1,2,3,4,5)"
   ]
  },
  {
   "cell_type": "code",
   "execution_count": 6,
   "id": "a21f2e40-a045-48b4-ac07-312607823c80",
   "metadata": {},
   "outputs": [
    {
     "name": "stdout",
     "output_type": "stream",
     "text": [
      "55\n"
     ]
    }
   ],
   "source": [
    "result1 = sum([1, 2, 3, 4, 5, 6, 7, 8, 9, 10])\n",
    "\n",
    "print(result1)  # 출력 : 55"
   ]
  },
  {
   "cell_type": "code",
   "execution_count": 16,
   "id": "6cb51eed-9c0b-4ef9-8ad6-296dedd3efe4",
   "metadata": {},
   "outputs": [],
   "source": [
    "def test(**key):#dictionary로 받겠다\n",
    "    print(key.get('sal'))#key의 값의name의 value를 받겠다"
   ]
  },
  {
   "cell_type": "code",
   "execution_count": 17,
   "id": "e85cc235-83df-400a-9cd0-bb79e58e5aee",
   "metadata": {},
   "outputs": [
    {
     "name": "stdout",
     "output_type": "stream",
     "text": [
      "None\n",
      "3000\n"
     ]
    }
   ],
   "source": [
    "test(num=11,name='aaaa')\n",
    "test(num=12,name='ccc',sal=3000)"
   ]
  },
  {
   "cell_type": "markdown",
   "id": "81b11be8-b0e6-4fbb-92e9-a869f2a229bc",
   "metadata": {},
   "source": [
    "# 파일 다루기"
   ]
  },
  {
   "cell_type": "code",
   "execution_count": 18,
   "id": "8eb44e5f-a79f-4297-b3ca-7ffca1e34496",
   "metadata": {},
   "outputs": [],
   "source": [
    "fstream=open('my_sample.txt','w',encoding='utf-8')\n",
    "fstream.write('내가 만든 파일\\n')\n",
    "fstream.close()"
   ]
  },
  {
   "cell_type": "code",
   "execution_count": 19,
   "id": "323f6565-68f1-4501-8499-33634eb4e49b",
   "metadata": {},
   "outputs": [
    {
     "name": "stdout",
     "output_type": "stream",
     "text": [
      "내가 만든 파일\n",
      "\n"
     ]
    }
   ],
   "source": [
    "# 위에서 생성된 파일 읽어오기('r'은 기본으로 됨)\n",
    "fstream=open('my_sample.txt',encoding='utf-8')\n",
    "data = fstream.read()#어디 까지 읽어오라는 지정이 없으면 모두 읽어옴\n",
    "print(data)\n",
    "fstream.close()"
   ]
  },
  {
   "cell_type": "code",
   "execution_count": 4,
   "id": "a0c5280b-3abd-4fea-bd7d-4b0405a11faa",
   "metadata": {},
   "outputs": [],
   "source": [
    "#절대 경로를 이용한 파일생성\n",
    "fstream=open(r'D:/test/my_sample.txt','w',encoding='utf-8')\n",
    "fstream.write('새로\\n')\n",
    "fstream.close()"
   ]
  },
  {
   "cell_type": "code",
   "execution_count": 5,
   "id": "a7da828a-bfed-4825-aa0a-3dba2c0f9ac6",
   "metadata": {},
   "outputs": [],
   "source": [
    "#w는 기존의 파일을 지우고 새로 생성\n",
    "#지우지 않고 하고 싶다면 a모드로!!!"
   ]
  },
  {
   "cell_type": "code",
   "execution_count": 6,
   "id": "4faee33a-e958-4cc1-82d0-49b1f48a295b",
   "metadata": {},
   "outputs": [],
   "source": [
    "#절대 경로를 이용한 파일생성\n",
    "fstream=open(r'D:/test/my_sample.txt','a',encoding='utf-8')\n",
    "fstream.write('a 모드\\n')\n",
    "fstream.close()"
   ]
  },
  {
   "cell_type": "code",
   "execution_count": null,
   "id": "c21d085d-8710-4af2-bc48-100cff73ac60",
   "metadata": {},
   "outputs": [],
   "source": [
    "#파일을 열때 with 블럭을 사용하면 블럭이 모두 실행된 후에 close된다"
   ]
  },
  {
   "cell_type": "code",
   "execution_count": 11,
   "id": "4ddf4c68-fa86-42b0-8c9d-0ac5edddc4f8",
   "metadata": {},
   "outputs": [
    {
     "name": "stdout",
     "output_type": "stream",
     "text": [
      "새로\n",
      "a 모드\n",
      "\n"
     ]
    }
   ],
   "source": [
    "with open('D:/test/my_sample.txt',encoding='utf-8') as fstream:\n",
    "    data = fstream.read()#어디 까지 읽어오라는 지정이 없으면 모두 읽어옴\n",
    "print(data)"
   ]
  },
  {
   "cell_type": "code",
   "execution_count": 13,
   "id": "ddeba2ca-4f85-4ce6-be2c-b73dda6a1e8c",
   "metadata": {},
   "outputs": [
    {
     "data": {
      "text/plain": [
       "True"
      ]
     },
     "execution_count": 13,
     "metadata": {},
     "output_type": "execute_result"
    }
   ],
   "source": [
    "import os\n",
    "os.listdir()\n",
    "os.path.isfile('day04.ipynb')#파일이냐 아니냐를 물어봄"
   ]
  },
  {
   "cell_type": "code",
   "execution_count": 15,
   "id": "3ec7a1e1-3983-48a1-86c6-65b01c5da343",
   "metadata": {},
   "outputs": [
    {
     "data": {
      "text/plain": [
       "'D:\\\\test\\\\testfile.txt'"
      ]
     },
     "execution_count": 15,
     "metadata": {},
     "output_type": "execute_result"
    }
   ],
   "source": [
    "import os\n",
    "abspath=os.path.join(\"D:\\\\test\",\"testfile.txt\")#디렉토리 명과 파일명이 분리\n",
    "abspath#경로를 만들어줌"
   ]
  },
  {
   "cell_type": "code",
   "execution_count": 16,
   "id": "ba4c945f-9131-4fe5-9952-43db08d8bd69",
   "metadata": {},
   "outputs": [],
   "source": [
    "fstream=open('D:\\\\test\\\\testfile.txt','a',encoding='utf-8')\n",
    "fstream.write('a 모드\\n')\n",
    "fstream.close()"
   ]
  },
  {
   "cell_type": "code",
   "execution_count": 32,
   "id": "c3ce7ca1-65c3-42a4-ac57-f8cceb2c72fa",
   "metadata": {},
   "outputs": [
    {
     "data": {
      "text/plain": [
       "'2022-08-17-12-46-05'"
      ]
     },
     "execution_count": 32,
     "metadata": {},
     "output_type": "execute_result"
    }
   ],
   "source": [
    "import datetime\n",
    "nowtime=datetime.datetime.now()#현재시각\n",
    "name=nowtime.strftime('%Y-%m-%d-%H-%M-%S')\n",
    "name"
   ]
  },
  {
   "cell_type": "code",
   "execution_count": 53,
   "id": "cb33ff98-df0a-492a-8325-8480b2a068a6",
   "metadata": {},
   "outputs": [
    {
     "name": "stdout",
     "output_type": "stream",
     "text": [
      "파일 새로 생성\n",
      "작업완료\n"
     ]
    }
   ],
   "source": [
    "# 지정된 파일이 없을때 파일 생성\n",
    "try:\n",
    "    with open('sample.txt','x', encoding='utf-8') as fstream:\n",
    "        print('파일 새로 생성')\n",
    "except FileExistsError as fe:#예외 정보가 fe에 들어감\n",
    "\n",
    "    print('이미 파일 있음'+str(fe))\n",
    "    \n",
    "finally:\n",
    "    print('작업완료')"
   ]
  },
  {
   "cell_type": "code",
   "execution_count": 28,
   "id": "85af8fb3-0f5b-47f2-81ad-77fde3d2c357",
   "metadata": {},
   "outputs": [],
   "source": [
    "#현재 시간을 구해서 시간 문자열을 생성하고 그 문자열을 파일명으로 파일 생성\n",
    "#파일 내용에는 년,월,일,시,분,초를 내려쓰기\n",
    "#쓰기 작업 후에는  다시 해당 파일을 읽어서 화면에 표시"
   ]
  },
  {
   "cell_type": "code",
   "execution_count": 44,
   "id": "ca039ed9-2fcf-49ee-98a8-4cd72d4e6a4f",
   "metadata": {},
   "outputs": [],
   "source": [
    "fstream=open('D:\\\\test\\\\'+name+'.txt','w',encoding='utf-8')\n",
    "fstream.write(nowtime.strftime('%Y년\\n'))\n",
    "fstream.write(nowtime.strftime('%m월\\n'))\n",
    "fstream.write(nowtime.strftime('%d일\\n'))\n",
    "fstream.write(nowtime.strftime('%H시\\n'))\n",
    "fstream.write(nowtime.strftime('%M분\\n'))\n",
    "fstream.write(nowtime.strftime('%S초\\n'))\n",
    "fstream.close()"
   ]
  },
  {
   "cell_type": "code",
   "execution_count": 47,
   "id": "fede86e3-114d-4ec9-aff0-9e6357185416",
   "metadata": {},
   "outputs": [
    {
     "name": "stdout",
     "output_type": "stream",
     "text": [
      "2022년\n",
      "08월\n",
      "17일\n",
      "12시\n",
      "46분\n",
      "05초\n",
      "\n"
     ]
    }
   ],
   "source": [
    "with open('D:\\\\test\\\\'+name+'.txt',encoding='utf-8') as fstream:\n",
    "    data = fstream.read()#어디 까지 읽어오라는 지정이 없으면 모두 읽어옴\n",
    "print(data)"
   ]
  },
  {
   "cell_type": "code",
   "execution_count": 48,
   "id": "fda83263-98a6-41dd-9554-fb6e02a4c7b4",
   "metadata": {},
   "outputs": [
    {
     "ename": "FileNotFoundError",
     "evalue": "[Errno 2] No such file or directory: 'src_file'",
     "output_type": "error",
     "traceback": [
      "\u001b[1;31m---------------------------------------------------------------------------\u001b[0m",
      "\u001b[1;31mFileNotFoundError\u001b[0m                         Traceback (most recent call last)",
      "Input \u001b[1;32mIn [48]\u001b[0m, in \u001b[0;36m<cell line: 2>\u001b[1;34m()\u001b[0m\n\u001b[0;32m      1\u001b[0m \u001b[38;5;28;01mimport\u001b[39;00m \u001b[38;5;21;01mshutil\u001b[39;00m\n\u001b[1;32m----> 2\u001b[0m \u001b[43mshutil\u001b[49m\u001b[38;5;241;43m.\u001b[39;49m\u001b[43mcopy\u001b[49m\u001b[43m(\u001b[49m\u001b[38;5;124;43m'\u001b[39;49m\u001b[38;5;124;43msrc_file\u001b[39;49m\u001b[38;5;124;43m'\u001b[39;49m\u001b[43m,\u001b[49m\u001b[38;5;124;43m'\u001b[39;49m\u001b[38;5;124;43mdst_file\u001b[39;49m\u001b[38;5;124;43m'\u001b[39;49m\u001b[43m)\u001b[49m\n",
      "File \u001b[1;32m~\\anaconda3\\lib\\shutil.py:427\u001b[0m, in \u001b[0;36mcopy\u001b[1;34m(src, dst, follow_symlinks)\u001b[0m\n\u001b[0;32m    425\u001b[0m \u001b[38;5;28;01mif\u001b[39;00m os\u001b[38;5;241m.\u001b[39mpath\u001b[38;5;241m.\u001b[39misdir(dst):\n\u001b[0;32m    426\u001b[0m     dst \u001b[38;5;241m=\u001b[39m os\u001b[38;5;241m.\u001b[39mpath\u001b[38;5;241m.\u001b[39mjoin(dst, os\u001b[38;5;241m.\u001b[39mpath\u001b[38;5;241m.\u001b[39mbasename(src))\n\u001b[1;32m--> 427\u001b[0m \u001b[43mcopyfile\u001b[49m\u001b[43m(\u001b[49m\u001b[43msrc\u001b[49m\u001b[43m,\u001b[49m\u001b[43m \u001b[49m\u001b[43mdst\u001b[49m\u001b[43m,\u001b[49m\u001b[43m \u001b[49m\u001b[43mfollow_symlinks\u001b[49m\u001b[38;5;241;43m=\u001b[39;49m\u001b[43mfollow_symlinks\u001b[49m\u001b[43m)\u001b[49m\n\u001b[0;32m    428\u001b[0m copymode(src, dst, follow_symlinks\u001b[38;5;241m=\u001b[39mfollow_symlinks)\n\u001b[0;32m    429\u001b[0m \u001b[38;5;28;01mreturn\u001b[39;00m dst\n",
      "File \u001b[1;32m~\\anaconda3\\lib\\shutil.py:264\u001b[0m, in \u001b[0;36mcopyfile\u001b[1;34m(src, dst, follow_symlinks)\u001b[0m\n\u001b[0;32m    262\u001b[0m     os\u001b[38;5;241m.\u001b[39msymlink(os\u001b[38;5;241m.\u001b[39mreadlink(src), dst)\n\u001b[0;32m    263\u001b[0m \u001b[38;5;28;01melse\u001b[39;00m:\n\u001b[1;32m--> 264\u001b[0m     \u001b[38;5;28;01mwith\u001b[39;00m \u001b[38;5;28;43mopen\u001b[39;49m\u001b[43m(\u001b[49m\u001b[43msrc\u001b[49m\u001b[43m,\u001b[49m\u001b[43m \u001b[49m\u001b[38;5;124;43m'\u001b[39;49m\u001b[38;5;124;43mrb\u001b[39;49m\u001b[38;5;124;43m'\u001b[39;49m\u001b[43m)\u001b[49m \u001b[38;5;28;01mas\u001b[39;00m fsrc:\n\u001b[0;32m    265\u001b[0m         \u001b[38;5;28;01mtry\u001b[39;00m:\n\u001b[0;32m    266\u001b[0m             \u001b[38;5;28;01mwith\u001b[39;00m \u001b[38;5;28mopen\u001b[39m(dst, \u001b[38;5;124m'\u001b[39m\u001b[38;5;124mwb\u001b[39m\u001b[38;5;124m'\u001b[39m) \u001b[38;5;28;01mas\u001b[39;00m fdst:\n\u001b[0;32m    267\u001b[0m                 \u001b[38;5;66;03m# macOS\u001b[39;00m\n",
      "\u001b[1;31mFileNotFoundError\u001b[0m: [Errno 2] No such file or directory: 'src_file'"
     ]
    }
   ],
   "source": [
    "#파일 복사\n",
    "import shutil\n",
    "shutil.copy('src_file','dst_file')"
   ]
  },
  {
   "cell_type": "code",
   "execution_count": 51,
   "id": "e2fb9eb7-5978-4a57-9cae-d17d27d1efff",
   "metadata": {},
   "outputs": [],
   "source": [
    "#파일명 바꾸기\n",
    "import os\n",
    "os.rename('sample.txt','new_name')"
   ]
  },
  {
   "cell_type": "code",
   "execution_count": null,
   "id": "fc59b3b8-8cba-48bf-afbb-77b0cfaba3fd",
   "metadata": {},
   "outputs": [],
   "source": [
    "#파일 삭제\n",
    "import os\n",
    "os.remove('file_name')"
   ]
  },
  {
   "cell_type": "code",
   "execution_count": 68,
   "id": "a04271d8-6747-42f4-a405-0bcf60a89ebb",
   "metadata": {},
   "outputs": [],
   "source": [
    "#이진 파일(이미지...)을 읽어 오려면?\n",
    "fstream = open('sample.jpg','rb')\n",
    "data=fstream.read()\n",
    "fstream.close()\n",
    "\n",
    "fstream = open('sample_copy.jpg','wb')\n",
    "fstream.write(data)\n",
    "fstream.close()"
   ]
  },
  {
   "cell_type": "code",
   "execution_count": 69,
   "id": "1f0ed4a7-8c62-4933-93b7-91536c024906",
   "metadata": {},
   "outputs": [],
   "source": [
    "fstream = open('D:\\\\test\\\\emp.txt',encoding='utf-8')"
   ]
  },
  {
   "cell_type": "code",
   "execution_count": 70,
   "id": "1c4471b2-51fd-4d90-95a4-c383bd88ad32",
   "metadata": {},
   "outputs": [
    {
     "name": "stdout",
     "output_type": "stream",
     "text": [
      "11 smith 010-0000-0000 smith@gmail.com\n",
      "12 tom 010-0000-0000 tom@gmail.com\n",
      "13 alice 010-0000-0000 alice@gmail.com\n",
      "14 suzan 010-0000-0000 suzan@gmail.com\n",
      "15 마동석 010-0000-0000 mads@gmail.com\n"
     ]
    }
   ],
   "source": [
    "data=fstream.read()\n",
    "print(data)\n",
    "fstream.close()"
   ]
  },
  {
   "cell_type": "code",
   "execution_count": 88,
   "id": "6573bbfb-2080-476d-9b3a-d1a248a0013a",
   "metadata": {},
   "outputs": [
    {
     "name": "stdout",
     "output_type": "stream",
     "text": [
      "\n",
      "완료\n"
     ]
    }
   ],
   "source": [
    "with open('D:\\\\test\\\\emp.txt',encoding='utf-8') as fin:\n",
    "    line=fin.readline()#한행만\n",
    "    if 'tom' in fin.read():\n",
    "        print(fin.read())\n",
    "    else:\n",
    "        print('오류')\n",
    "       \n",
    "        \n",
    "print('완료')"
   ]
  },
  {
   "cell_type": "code",
   "execution_count": 89,
   "id": "1194c6e8-082c-412c-92d2-3c0c68e0dc1d",
   "metadata": {},
   "outputs": [
    {
     "name": "stdout",
     "output_type": "stream",
     "text": [
      "True\n"
     ]
    }
   ],
   "source": [
    "with open('D:\\\\test\\\\emp.txt',encoding='utf-8') as fin:\n",
    "    print( hasattr(fin,'__iter__'))#이런 속성을 가진 객체라면 true\n",
    "    fin.close()"
   ]
  },
  {
   "cell_type": "code",
   "execution_count": 162,
   "id": "98bdc933-52cb-404b-8da9-1f160e4e3566",
   "metadata": {},
   "outputs": [
    {
     "name": "stdout",
     "output_type": "stream",
     "text": [
      "완료\n",
      "11 smith 010-0000-0000 smith@gmail.com\n",
      "12 tom 010-0000-0000 tom@gmail.com\n",
      "13 alice 010-0000-0000 alice@gmail.com\n",
      "14 suzan 010-0000-0000 suzan@gmail.com\n",
      "15,마동석,010-555-9999,mads@gmail.com\n"
     ]
    }
   ],
   "source": [
    "list1=[]\n",
    "with open('D:\\\\test\\\\emp.txt',encoding='utf-8') as fin:\n",
    "    for n in fin:\n",
    "        num,name,phone,email = n.split()\n",
    "        if name=='마동석':\n",
    "            phone=\"010-555-9999\"\n",
    "            n = '{},{},{},{}'.format(num,name,phone,email)\n",
    "        list1.append(n)\n",
    "\n",
    "with open('D:\\\\test\\\\emp.txt','w',encoding='utf-8') as fout:\n",
    "    fout.writelines(list)\n",
    "print('완료')\n",
    "\n",
    "with open('D:\\\\test\\\\emp.txt',encoding='utf-8') as fin:\n",
    "    print(fin.read())\n",
    "            "
   ]
  },
  {
   "cell_type": "code",
   "execution_count": 5,
   "id": "5257ff1c-cc28-430a-bef3-9f8d7e9c472e",
   "metadata": {},
   "outputs": [
    {
     "name": "stdout",
     "output_type": "stream",
     "text": [
      "완료\n",
      "11 smith 010-0000-0000 smith@gmail.com\n",
      "12 tom 010-0000-0000 tom@gmail.com\n",
      "13 alice 010-0000-0000 alice@gmail.com\n",
      "14 suzan 010-0000-0000 suzan@gmail.com\n",
      "\n"
     ]
    }
   ],
   "source": [
    "list1=[]\n",
    "with open('D:\\\\test\\\\emp.txt',encoding='utf-8') as fin:\n",
    "    for n in fin:\n",
    "        num,name,phone,email = n.split()\n",
    "        if name=='마동석':\n",
    "            continue\n",
    "        list1.append(n)   \n",
    "\n",
    "with open('D:\\\\test\\\\emp.txt','w',encoding='utf-8') as fout:\n",
    "    fout.writelines(list1)\n",
    "print('완료')\n",
    "\n",
    "with open('D:\\\\test\\\\emp.txt',encoding='utf-8') as fin:\n",
    "    print(fin.read())"
   ]
  },
  {
   "cell_type": "code",
   "execution_count": 13,
   "id": "5801ab50-5433-40eb-88ce-3534a933636d",
   "metadata": {},
   "outputs": [
    {
     "name": "stdout",
     "output_type": "stream",
     "text": [
      "완료\n",
      "11 smith 010-0000-0000 smith@gmail.com\n",
      "12 tom 010-0000-0000 tom@gmail.com\n",
      "13 alice 010-0000-0000 alice@gmail.com\n",
      "14 suzan 010-0000-0000 suzan@gmail.com\n",
      "15 dddd 010-555-5555 dddd@ddd.com\n",
      "15 dddd 010-555-5555 dddd@ddd.com\n",
      "\n"
     ]
    }
   ],
   "source": [
    "list1=[]\n",
    "with open('D:\\\\test\\\\emp.txt',encoding='utf-8') as fin:\n",
    "    for n in fin:\n",
    "        num,name,phone,email = n.split()\n",
    "        list1.append(n)  \n",
    "\n",
    "with open('D:\\\\test\\\\emp.txt','w',encoding='utf-8') as fout:\n",
    "    fout.writelines(list1)\n",
    "\n",
    "with open('D:\\\\test\\\\emp.txt','a',encoding='utf-8') as fout:\n",
    "    fout.write('15 dddd 010-555-5555 dddd@ddd.com\\n')\n",
    "    \n",
    "print('완료')\n",
    "\n",
    "with open('D:\\\\test\\\\emp.txt',encoding='utf-8') as fin:\n",
    "    print(fin.read())"
   ]
  },
  {
   "cell_type": "code",
   "execution_count": 14,
   "id": "03a1f728-d0f1-4656-b904-54be8f0d71cc",
   "metadata": {},
   "outputs": [],
   "source": [
    "class Mem:\n",
    "    def __init__(self,num,name,phone,email):\n",
    "        self.num=num\n",
    "        self.name=name\n",
    "        self.phone=phone\n",
    "        self.emila=email\n",
    "        \n",
    "    def __str__(self):\n",
    "        return '{}\\t{}\\t{}\\t{}'.format(self.num,self.name,self.phone,self.email)\n",
    "    "
   ]
  },
  {
   "cell_type": "code",
   "execution_count": 15,
   "id": "716ec084-d6ea-43f2-baf8-5dd3e7cd5f74",
   "metadata": {},
   "outputs": [],
   "source": [
    "mem_dic=[]\n",
    "m_dic={'s':'LIST', 'f':'FIND', 'a':'ADD', 'u':'UPDATE', 'd':'DELETE', 'x':\n",
    "       'EXIT'}\n",
    "\n",
    "def menu():\n",
    "    print(\"-----------------------------------------------\")\n",
    "    m=input('목록(s), 검색(f), 추가(a), 수정(u), 삭제(d), 종료(x):')\n",
    "    return m_dic.get(m)"
   ]
  },
  {
   "cell_type": "code",
   "execution_count": 16,
   "id": "e77dabb8-e837-478f-87a3-31e81deef617",
   "metadata": {},
   "outputs": [],
   "source": [
    "def add():\n",
    "    in_str = input('번호 이름 전화번호 이메일:')\n",
    "    token=in_str.split()\n",
    "    num,name,phone,email=token\n",
    "    mem_dic[num]=Mem(num,name,phone,eamil)\n",
    "    print('저장성공')"
   ]
  },
  {
   "cell_type": "code",
   "execution_count": null,
   "id": "8c8bc5d8-191e-4daa-96b3-12144e47ec8b",
   "metadata": {},
   "outputs": [],
   "source": [
    "def"
   ]
  }
 ],
 "metadata": {
  "kernelspec": {
   "display_name": "Python 3 (ipykernel)",
   "language": "python",
   "name": "python3"
  },
  "language_info": {
   "codemirror_mode": {
    "name": "ipython",
    "version": 3
   },
   "file_extension": ".py",
   "mimetype": "text/x-python",
   "name": "python",
   "nbconvert_exporter": "python",
   "pygments_lexer": "ipython3",
   "version": "3.9.12"
  }
 },
 "nbformat": 4,
 "nbformat_minor": 5
}
