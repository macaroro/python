{
 "cells": [
  {
   "cell_type": "code",
   "execution_count": 1,
   "id": "aeb869af-2ce3-4635-bfa9-56280e15a0a7",
   "metadata": {},
   "outputs": [],
   "source": [
    "import tensorflow as tf\n",
    "from tensorflow import keras\n",
    "from tensorflow.keras.layers import Dense"
   ]
  },
  {
   "cell_type": "code",
   "execution_count": 2,
   "id": "ef5f3c45-3fa1-455b-a0bc-51a785a620a6",
   "metadata": {},
   "outputs": [],
   "source": [
    "import numpy as np\n",
    "import pandas as pd\n",
    "import matplotlib.pyplot as plt\n",
    "from sklearn.model_selection import train_test_split"
   ]
  },
  {
   "cell_type": "code",
   "execution_count": 3,
   "id": "84c0c2d9-f832-417c-9e07-60b6f4aec44c",
   "metadata": {},
   "outputs": [
    {
     "data": {
      "text/plain": [
       "array([  1.69896178,   6.0320614 ,  -3.45159215,  -2.34743085,\n",
       "        10.38511661,   3.84750039,   4.1283268 ,   9.39175095,\n",
       "        17.51952937,  18.83999115,  19.41209128,   7.32543183,\n",
       "        10.29597575,  15.3661327 ,  12.91027035,   6.82113406,\n",
       "        21.76730351,  14.50751157,  24.79973863,  14.05004348,\n",
       "        26.19062227,  21.2268574 ,  24.04042788,  27.8762614 ,\n",
       "        23.13655683,  19.50004872,  28.3260937 ,  31.01986884,\n",
       "        26.08086086,  34.23680134,  36.88162769,  31.91908336,\n",
       "        35.50489707,  38.31999061,  27.50028275,  34.82494658,\n",
       "        43.30474958,  39.61331681,  36.02388193,  33.98224911,\n",
       "        45.60731549,  45.15200179,  45.79424689,  45.2236387 ,\n",
       "        37.70425047,  46.0920591 ,  47.62604574,  50.67842114,\n",
       "        47.43672908,  54.59051312,  64.22310258,  43.29689418,\n",
       "        49.72040618,  54.60169469,  53.33531956,  50.98359512,\n",
       "        58.36724552,  58.77960613,  66.11630846,  69.60776099,\n",
       "        69.21589637,  58.4682793 ,  62.32146452,  60.3080088 ,\n",
       "        68.36306736,  63.63940843,  63.51013714,  65.80584946,\n",
       "        71.61331665,  73.41749333,  82.34941759,  78.91729125,\n",
       "        69.69417028,  69.52197737,  77.23764516,  72.48110462,\n",
       "        78.06740753,  79.9399997 ,  73.16138809,  77.5179994 ,\n",
       "        78.56973545,  88.78241577,  83.36976298,  89.49582046,\n",
       "        76.24876031,  89.50587435,  80.66478007,  88.60219601,\n",
       "        87.19276818,  84.42862525,  88.32813922,  93.03904579,\n",
       "        83.56040543,  95.12046737,  96.97554154,  99.22631464,\n",
       "        97.2014619 , 101.07651565, 104.31523199, 100.14482192])"
      ]
     },
     "execution_count": 3,
     "metadata": {},
     "output_type": "execute_result"
    }
   ],
   "source": [
    "x,y= (np.arange(100), np.arange(100,dtype='float'))\n",
    "y+=np.random.normal(0,5,100)#평균은 0 표준편차는 5인 100개의 숫자\n",
    "y"
   ]
  },
  {
   "cell_type": "code",
   "execution_count": 6,
   "id": "30bf55cb-cb77-4283-a847-bce7cd1ee64c",
   "metadata": {},
   "outputs": [
    {
     "data": {
      "image/png": "[encoded data removed]",
      "text/plain": [
       "<Figure size 432x288 with 1 Axes>"
      ]
     },
     "metadata": {
      "needs_background": "light"
     },
     "output_type": "display_data"
    }
   ],
   "source": [
    "plt.plot(x,y,'.')\n",
    "plt.show()"
   ]
  },
  {
   "cell_type": "code",
   "execution_count": 7,
   "id": "edef7518-44cc-4c2a-8341-e489c78662a1",
   "metadata": {},
   "outputs": [],
   "source": [
    "x_train,x_test,y_train,y_test=train_test_split(x,y,test_size=0.2)"
   ]
  },
  {
   "cell_type": "markdown",
   "id": "a7279163-8f6c-42f7-a54f-d1993ed24cee",
   "metadata": {},
   "source": [
    "# 인공 신경망 만들기"
   ]
  },
  {
   "cell_type": "code",
   "execution_count": 8,
   "id": "55104784-8cce-49a0-b2d9-cb09ae588366",
   "metadata": {},
   "outputs": [],
   "source": [
    "model=tf.keras.models.Sequential()#신경망 만들기\n",
    "model.add(Dense(8,input_shape=(1,),activation='linear'))#입력층(input layer)\n",
    "#뉴런의 수,데이터 수(입력값은 2차원 구조도 가능)\n",
    "model.add(Dense(4,input_shape=(1,),activation='linear'))#hidden layer\n",
    "model.add(Dense(2,input_shape=(1,),activation='linear'))#hidden layer\n",
    "model.add(Dense(1,input_shape=(1,),activation='linear'))#output layer\n",
    "#layer가 많으면 많을 수록 복잡한 계산이 가능 "
   ]
  },
  {
   "cell_type": "code",
   "execution_count": 9,
   "id": "837d5f3b-4a3d-45e0-9a3e-6e34699aef47",
   "metadata": {},
   "outputs": [
    {
     "name": "stdout",
     "output_type": "stream",
     "text": [
      "Model: \"sequential\"\n",
      "_________________________________________________________________\n",
      " Layer (type)                Output Shape              Param #   \n",
      "=================================================================\n",
      " dense (Dense)               (None, 8)                 16        \n",
      "                                                                 \n",
      " dense_1 (Dense)             (None, 4)                 36        \n",
      "                                                                 \n",
      " dense_2 (Dense)             (None, 2)                 10        \n",
      "                                                                 \n",
      " dense_3 (Dense)             (None, 1)                 3         \n",
      "                                                                 \n",
      "=================================================================\n",
      "Total params: 65\n",
      "Trainable params: 65\n",
      "Non-trainable params: 0\n",
      "_________________________________________________________________\n"
     ]
    }
   ],
   "source": [
    "model.summary()"
   ]
  },
  {
   "cell_type": "code",
   "execution_count": 10,
   "id": "70a9e7b3-7a36-45d9-be52-3c51d9e49565",
   "metadata": {},
   "outputs": [],
   "source": [
    "model.compile(loss='mse',optimizer='adam')"
   ]
  },
  {
   "cell_type": "code",
   "execution_count": 11,
   "id": "934005fa-b97f-4c7a-be66-9c9cff6a3c80",
   "metadata": {},
   "outputs": [
    {
     "name": "stdout",
     "output_type": "stream",
     "text": [
      "Epoch 1/100\n",
      "64/64 [==============================] - 1s 3ms/step - loss: 1864.4164 - val_loss: 1151.4064\n",
      "Epoch 2/100\n",
      "64/64 [==============================] - 0s 1ms/step - loss: 437.5017 - val_loss: 77.5789\n",
      "Epoch 3/100\n",
      "64/64 [==============================] - 0s 1ms/step - loss: 26.6919 - val_loss: 26.7686\n",
      "Epoch 4/100\n",
      "64/64 [==============================] - 0s 2ms/step - loss: 24.0797 - val_loss: 26.1495\n",
      "Epoch 5/100\n",
      "64/64 [==============================] - 0s 1ms/step - loss: 24.0591 - val_loss: 26.7717\n",
      "Epoch 6/100\n",
      "64/64 [==============================] - 0s 1ms/step - loss: 23.9914 - val_loss: 27.3865\n",
      "Epoch 7/100\n",
      "64/64 [==============================] - 0s 1ms/step - loss: 24.1576 - val_loss: 24.7936\n",
      "Epoch 8/100\n",
      "64/64 [==============================] - 0s 1ms/step - loss: 24.7722 - val_loss: 27.6632\n",
      "Epoch 9/100\n",
      "64/64 [==============================] - 0s 1ms/step - loss: 24.0611 - val_loss: 30.2151\n",
      "Epoch 10/100\n",
      "64/64 [==============================] - 0s 1ms/step - loss: 24.2097 - val_loss: 25.3337\n",
      "Epoch 11/100\n",
      "64/64 [==============================] - 0s 1ms/step - loss: 24.3219 - val_loss: 29.9210\n",
      "Epoch 12/100\n",
      "64/64 [==============================] - 0s 1ms/step - loss: 25.4841 - val_loss: 28.3032\n",
      "Epoch 13/100\n",
      "64/64 [==============================] - 0s 1ms/step - loss: 24.1820 - val_loss: 24.7266\n",
      "Epoch 14/100\n",
      "64/64 [==============================] - 0s 1ms/step - loss: 26.3428 - val_loss: 24.7741\n",
      "Epoch 15/100\n",
      "64/64 [==============================] - 0s 1ms/step - loss: 24.8931 - val_loss: 24.7408\n",
      "Epoch 16/100\n",
      "64/64 [==============================] - 0s 1ms/step - loss: 24.8583 - val_loss: 25.3749\n",
      "Epoch 17/100\n",
      "64/64 [==============================] - 0s 1ms/step - loss: 24.6880 - val_loss: 35.3212\n",
      "Epoch 18/100\n",
      "64/64 [==============================] - 0s 1ms/step - loss: 25.7330 - val_loss: 28.2631\n",
      "Epoch 19/100\n",
      "64/64 [==============================] - 0s 1ms/step - loss: 26.2778 - val_loss: 28.3652\n",
      "Epoch 20/100\n",
      "64/64 [==============================] - 0s 1ms/step - loss: 26.1000 - val_loss: 24.8159\n",
      "Epoch 21/100\n",
      "64/64 [==============================] - 0s 1ms/step - loss: 26.2107 - val_loss: 25.1282\n",
      "Epoch 22/100\n",
      "64/64 [==============================] - 0s 2ms/step - loss: 24.5951 - val_loss: 24.8634\n",
      "Epoch 23/100\n",
      "64/64 [==============================] - 0s 2ms/step - loss: 24.5008 - val_loss: 29.3531\n",
      "Epoch 24/100\n",
      "64/64 [==============================] - 0s 1ms/step - loss: 24.8076 - val_loss: 25.0829\n",
      "Epoch 25/100\n",
      "64/64 [==============================] - 0s 1ms/step - loss: 23.9401 - val_loss: 25.3478\n",
      "Epoch 26/100\n",
      "64/64 [==============================] - 0s 1ms/step - loss: 26.9058 - val_loss: 25.4260\n",
      "Epoch 27/100\n",
      "64/64 [==============================] - 0s 1ms/step - loss: 26.0357 - val_loss: 24.5730\n",
      "Epoch 28/100\n",
      "64/64 [==============================] - 0s 1ms/step - loss: 24.6684 - val_loss: 25.0171\n",
      "Epoch 29/100\n",
      "64/64 [==============================] - 0s 1ms/step - loss: 23.2263 - val_loss: 38.8033\n",
      "Epoch 30/100\n",
      "64/64 [==============================] - 0s 1ms/step - loss: 26.6217 - val_loss: 24.5968\n",
      "Epoch 31/100\n",
      "64/64 [==============================] - 0s 1ms/step - loss: 25.0811 - val_loss: 24.5514\n",
      "Epoch 32/100\n",
      "64/64 [==============================] - 0s 1ms/step - loss: 24.7867 - val_loss: 26.6433\n",
      "Epoch 33/100\n",
      "64/64 [==============================] - 0s 1ms/step - loss: 26.4409 - val_loss: 39.2053\n",
      "Epoch 34/100\n",
      "64/64 [==============================] - 0s 1ms/step - loss: 25.1266 - val_loss: 24.6635\n",
      "Epoch 35/100\n",
      "64/64 [==============================] - 0s 1ms/step - loss: 26.9117 - val_loss: 33.4130\n",
      "Epoch 36/100\n",
      "64/64 [==============================] - 0s 1ms/step - loss: 25.7709 - val_loss: 25.9647\n",
      "Epoch 37/100\n",
      "64/64 [==============================] - 0s 1ms/step - loss: 25.8258 - val_loss: 24.5502\n",
      "Epoch 38/100\n",
      "64/64 [==============================] - 0s 1ms/step - loss: 24.6175 - val_loss: 24.9047\n",
      "Epoch 39/100\n",
      "64/64 [==============================] - 0s 1ms/step - loss: 26.0758 - val_loss: 28.7236\n",
      "Epoch 40/100\n",
      "64/64 [==============================] - 0s 2ms/step - loss: 23.6121 - val_loss: 27.1527\n",
      "Epoch 41/100\n",
      "64/64 [==============================] - 0s 1ms/step - loss: 24.5131 - val_loss: 26.2038\n",
      "Epoch 42/100\n",
      "64/64 [==============================] - 0s 1ms/step - loss: 23.5066 - val_loss: 26.5831\n",
      "Epoch 43/100\n",
      "64/64 [==============================] - 0s 1ms/step - loss: 26.5985 - val_loss: 28.7442\n",
      "Epoch 44/100\n",
      "64/64 [==============================] - 0s 1ms/step - loss: 24.1734 - val_loss: 24.6125\n",
      "Epoch 45/100\n",
      "64/64 [==============================] - 0s 1ms/step - loss: 25.2940 - val_loss: 26.1338\n",
      "Epoch 46/100\n",
      "64/64 [==============================] - 0s 1ms/step - loss: 25.6292 - val_loss: 25.4272\n",
      "Epoch 47/100\n",
      "64/64 [==============================] - 0s 1ms/step - loss: 25.8667 - val_loss: 25.1006\n",
      "Epoch 48/100\n",
      "64/64 [==============================] - 0s 1ms/step - loss: 25.1743 - val_loss: 25.9014\n",
      "Epoch 49/100\n",
      "64/64 [==============================] - 0s 1ms/step - loss: 25.7265 - val_loss: 27.4161\n",
      "Epoch 50/100\n",
      "64/64 [==============================] - 0s 1ms/step - loss: 24.6876 - val_loss: 27.0099\n",
      "Epoch 51/100\n",
      "64/64 [==============================] - 0s 1ms/step - loss: 24.8528 - val_loss: 25.7845\n",
      "Epoch 52/100\n",
      "64/64 [==============================] - 0s 1ms/step - loss: 26.4702 - val_loss: 26.5625\n",
      "Epoch 53/100\n",
      "64/64 [==============================] - 0s 1ms/step - loss: 25.4173 - val_loss: 31.8377\n",
      "Epoch 54/100\n",
      "64/64 [==============================] - 0s 1ms/step - loss: 25.1656 - val_loss: 25.1713\n",
      "Epoch 55/100\n",
      "64/64 [==============================] - 0s 1ms/step - loss: 23.8067 - val_loss: 33.0702\n",
      "Epoch 56/100\n",
      "64/64 [==============================] - 0s 1ms/step - loss: 27.2748 - val_loss: 24.7137\n",
      "Epoch 57/100\n",
      "64/64 [==============================] - 0s 1ms/step - loss: 24.6643 - val_loss: 25.2810\n",
      "Epoch 58/100\n",
      "64/64 [==============================] - 0s 1ms/step - loss: 25.4113 - val_loss: 27.2752\n",
      "Epoch 59/100\n",
      "64/64 [==============================] - 0s 1ms/step - loss: 25.3218 - val_loss: 25.5936\n",
      "Epoch 60/100\n",
      "64/64 [==============================] - 0s 1ms/step - loss: 25.9461 - val_loss: 31.3035\n",
      "Epoch 61/100\n",
      "64/64 [==============================] - 0s 1ms/step - loss: 24.7395 - val_loss: 26.1851\n",
      "Epoch 62/100\n",
      "64/64 [==============================] - 0s 1ms/step - loss: 25.5260 - val_loss: 25.3914\n",
      "Epoch 63/100\n",
      "64/64 [==============================] - 0s 1ms/step - loss: 26.4671 - val_loss: 24.5346\n",
      "Epoch 64/100\n",
      "64/64 [==============================] - 0s 1ms/step - loss: 25.5254 - val_loss: 30.1520\n",
      "Epoch 65/100\n",
      "64/64 [==============================] - 0s 1ms/step - loss: 24.6435 - val_loss: 24.5344\n",
      "Epoch 66/100\n",
      "64/64 [==============================] - 0s 2ms/step - loss: 24.7208 - val_loss: 24.4430\n",
      "Epoch 67/100\n",
      "64/64 [==============================] - 0s 1ms/step - loss: 24.9035 - val_loss: 24.8786\n",
      "Epoch 68/100\n",
      "64/64 [==============================] - 0s 1ms/step - loss: 24.7917 - val_loss: 31.5728\n",
      "Epoch 69/100\n",
      "64/64 [==============================] - 0s 1ms/step - loss: 23.9767 - val_loss: 42.6896\n",
      "Epoch 70/100\n",
      "64/64 [==============================] - 0s 1ms/step - loss: 26.6426 - val_loss: 24.5040\n",
      "Epoch 71/100\n",
      "64/64 [==============================] - 0s 1ms/step - loss: 25.3902 - val_loss: 28.2649\n",
      "Epoch 72/100\n",
      "64/64 [==============================] - 0s 1ms/step - loss: 27.3726 - val_loss: 24.3979\n",
      "Epoch 73/100\n",
      "64/64 [==============================] - 0s 2ms/step - loss: 24.9935 - val_loss: 24.7345\n",
      "Epoch 74/100\n",
      "64/64 [==============================] - 0s 2ms/step - loss: 26.3592 - val_loss: 25.7934\n",
      "Epoch 75/100\n",
      "64/64 [==============================] - 0s 1ms/step - loss: 24.9922 - val_loss: 29.0612\n",
      "Epoch 76/100\n",
      "64/64 [==============================] - 0s 1ms/step - loss: 26.2840 - val_loss: 24.5944\n",
      "Epoch 77/100\n",
      "64/64 [==============================] - 0s 1ms/step - loss: 27.0307 - val_loss: 25.3035\n",
      "Epoch 78/100\n",
      "64/64 [==============================] - 0s 1ms/step - loss: 25.0941 - val_loss: 29.3201\n",
      "Epoch 79/100\n",
      "64/64 [==============================] - 0s 1ms/step - loss: 26.7434 - val_loss: 27.1996\n",
      "Epoch 80/100\n",
      "64/64 [==============================] - 0s 1ms/step - loss: 23.0883 - val_loss: 25.5062\n",
      "Epoch 81/100\n",
      "64/64 [==============================] - 0s 1ms/step - loss: 25.2932 - val_loss: 31.7357\n",
      "Epoch 82/100\n",
      "64/64 [==============================] - 0s 1ms/step - loss: 26.5937 - val_loss: 25.9051\n",
      "Epoch 83/100\n",
      "64/64 [==============================] - 0s 1ms/step - loss: 23.9587 - val_loss: 24.5808\n",
      "Epoch 84/100\n",
      "64/64 [==============================] - 0s 1ms/step - loss: 25.0836 - val_loss: 24.3697\n",
      "Epoch 85/100\n",
      "64/64 [==============================] - 0s 1ms/step - loss: 23.1603 - val_loss: 30.0232\n",
      "Epoch 86/100\n",
      "64/64 [==============================] - 0s 1ms/step - loss: 25.2849 - val_loss: 24.4462\n",
      "Epoch 87/100\n",
      "64/64 [==============================] - 0s 1ms/step - loss: 27.4759 - val_loss: 25.0019\n",
      "Epoch 88/100\n",
      "64/64 [==============================] - 0s 1ms/step - loss: 24.7297 - val_loss: 25.8722\n",
      "Epoch 89/100\n",
      "64/64 [==============================] - 0s 1ms/step - loss: 24.7084 - val_loss: 30.2406\n",
      "Epoch 90/100\n",
      "64/64 [==============================] - 0s 1ms/step - loss: 25.9078 - val_loss: 27.2144\n",
      "Epoch 91/100\n",
      "64/64 [==============================] - 0s 1ms/step - loss: 24.7231 - val_loss: 27.5077\n",
      "Epoch 92/100\n",
      "64/64 [==============================] - 0s 1ms/step - loss: 25.4913 - val_loss: 26.1250\n",
      "Epoch 93/100\n",
      "64/64 [==============================] - 0s 1ms/step - loss: 25.5439 - val_loss: 24.3993\n",
      "Epoch 94/100\n",
      "64/64 [==============================] - 0s 1ms/step - loss: 24.2168 - val_loss: 38.9807\n",
      "Epoch 95/100\n",
      "64/64 [==============================] - 0s 2ms/step - loss: 26.4192 - val_loss: 28.7218\n",
      "Epoch 96/100\n",
      "64/64 [==============================] - 0s 1ms/step - loss: 25.2937 - val_loss: 24.3937\n",
      "Epoch 97/100\n",
      "64/64 [==============================] - 0s 1ms/step - loss: 25.8887 - val_loss: 25.7295\n",
      "Epoch 98/100\n",
      "64/64 [==============================] - 0s 1ms/step - loss: 25.1059 - val_loss: 25.2204\n",
      "Epoch 99/100\n",
      "64/64 [==============================] - 0s 1ms/step - loss: 27.4406 - val_loss: 25.7093\n",
      "Epoch 100/100\n",
      "64/64 [==============================] - 0s 1ms/step - loss: 24.9111 - val_loss: 24.3627\n"
     ]
    }
   ],
   "source": [
    "hist=model.fit(x_train, y_train, batch_size=1, validation_split=0.2, epochs=100)\n",
    "#매회하마다 20%정도는 한화 학습할 때 마다 검증용으로(학습에 사용되지 않음)"
   ]
  },
  {
   "cell_type": "code",
   "execution_count": 12,
   "id": "f2d7c651-621f-4b69-92c9-45871b799b9b",
   "metadata": {},
   "outputs": [
    {
     "data": {
      "text/plain": [
       "[1151.4063720703125,\n",
       " 77.578857421875,\n",
       " 26.76864242553711,\n",
       " 26.149497985839844,\n",
       " 26.77165412902832,\n",
       " 27.38648223876953,\n",
       " 24.793609619140625,\n",
       " 27.663204193115234,\n",
       " 30.21508026123047,\n",
       " 25.33367919921875,\n",
       " 29.920974731445312,\n",
       " 28.303180694580078,\n",
       " 24.72658920288086,\n",
       " 24.774106979370117,\n",
       " 24.7408447265625,\n",
       " 25.37490463256836,\n",
       " 35.32123947143555,\n",
       " 28.263124465942383,\n",
       " 28.365230560302734,\n",
       " 24.815933227539062,\n",
       " 25.128219604492188,\n",
       " 24.8634090423584,\n",
       " 29.353132247924805,\n",
       " 25.082857131958008,\n",
       " 25.34780502319336,\n",
       " 25.4260196685791,\n",
       " 24.572988510131836,\n",
       " 25.017108917236328,\n",
       " 38.80328369140625,\n",
       " 24.5967960357666,\n",
       " 24.5513916015625,\n",
       " 26.6433162689209,\n",
       " 39.205345153808594,\n",
       " 24.663516998291016,\n",
       " 33.413002014160156,\n",
       " 25.964736938476562,\n",
       " 24.550159454345703,\n",
       " 24.904741287231445,\n",
       " 28.723649978637695,\n",
       " 27.15274429321289,\n",
       " 26.203784942626953,\n",
       " 26.583087921142578,\n",
       " 28.744184494018555,\n",
       " 24.61249351501465,\n",
       " 26.133779525756836,\n",
       " 25.427152633666992,\n",
       " 25.100622177124023,\n",
       " 25.901395797729492,\n",
       " 27.416072845458984,\n",
       " 27.009864807128906,\n",
       " 25.784530639648438,\n",
       " 26.562545776367188,\n",
       " 31.83766746520996,\n",
       " 25.171314239501953,\n",
       " 33.07023620605469,\n",
       " 24.713682174682617,\n",
       " 25.280960083007812,\n",
       " 27.27518081665039,\n",
       " 25.5936336517334,\n",
       " 31.303512573242188,\n",
       " 26.185110092163086,\n",
       " 25.3913516998291,\n",
       " 24.534639358520508,\n",
       " 30.151988983154297,\n",
       " 24.534399032592773,\n",
       " 24.442955017089844,\n",
       " 24.878616333007812,\n",
       " 31.57281494140625,\n",
       " 42.68960189819336,\n",
       " 24.50402069091797,\n",
       " 28.264942169189453,\n",
       " 24.397916793823242,\n",
       " 24.734527587890625,\n",
       " 25.793354034423828,\n",
       " 29.061206817626953,\n",
       " 24.594392776489258,\n",
       " 25.303546905517578,\n",
       " 29.320148468017578,\n",
       " 27.199565887451172,\n",
       " 25.506155014038086,\n",
       " 31.735734939575195,\n",
       " 25.90513038635254,\n",
       " 24.580791473388672,\n",
       " 24.36968421936035,\n",
       " 30.023164749145508,\n",
       " 24.44615364074707,\n",
       " 25.001943588256836,\n",
       " 25.872215270996094,\n",
       " 30.24060821533203,\n",
       " 27.214359283447266,\n",
       " 27.507686614990234,\n",
       " 26.125043869018555,\n",
       " 24.399309158325195,\n",
       " 38.98067855834961,\n",
       " 28.721771240234375,\n",
       " 24.39374542236328,\n",
       " 25.729469299316406,\n",
       " 25.220386505126953,\n",
       " 25.7093448638916,\n",
       " 24.362709045410156]"
      ]
     },
     "execution_count": 12,
     "metadata": {},
     "output_type": "execute_result"
    }
   ],
   "source": [
    "dir(hist)\n",
    "hist.history['loss']\n",
    "hist.history['val_loss']#학습에 참여하지 않은 검증용 분할 데이터(손실)"
   ]
  },
  {
   "cell_type": "code",
   "execution_count": 13,
   "id": "f5261212-d747-4a2e-a465-19deac969092",
   "metadata": {},
   "outputs": [],
   "source": [
    "loss=hist.history['loss']\n",
    "val_loss=hist.history['val_loss']"
   ]
  },
  {
   "cell_type": "code",
   "execution_count": 14,
   "id": "35f57b1b-830f-4230-b11c-03045f822329",
   "metadata": {},
   "outputs": [
    {
     "data": {
      "image/png": "[encoded data removed]",
      "text/plain": [
       "<Figure size 432x288 with 1 Axes>"
      ]
     },
     "metadata": {
      "needs_background": "light"
     },
     "output_type": "display_data"
    }
   ],
   "source": [
    "plt.plot(loss, label='loss')\n",
    "plt.plot(val_loss, label='val_loss')\n",
    "plt.legend()\n",
    "plt.xlabel('Epoch')\n",
    "plt.ylabel('Loss')\n",
    "plt.show()"
   ]
  },
  {
   "cell_type": "code",
   "execution_count": 16,
   "id": "f84a4979-a4f9-4039-b4a7-d700305e209d",
   "metadata": {},
   "outputs": [
    {
     "name": "stdout",
     "output_type": "stream",
     "text": [
      "304/304 [==============================] - 0s 763us/step\n"
     ]
    },
    {
     "data": {
      "text/plain": [
       "[<matplotlib.lines.Line2D at 0x20a866a0790>]"
      ]
     },
     "execution_count": 16,
     "metadata": {},
     "output_type": "execute_result"
    },
    {
     "data": {
      "image/png": "[encoded data removed]",
      "text/plain": [
       "<Figure size 432x288 with 1 Axes>"
      ]
     },
     "metadata": {
      "needs_background": "light"
     },
     "output_type": "display_data"
    }
   ],
   "source": [
    "line_x =np.arange(min(x_train),max(x_train),0.01)\n",
    "line_y=model.predict(line_x)\n",
    "\n",
    "plt.plot(x,y,'.')\n",
    "plt.plot(line_x,line_y,'r')"
   ]
  },
  {
   "cell_type": "code",
   "execution_count": 17,
   "id": "51ccbe45-964d-455a-bff7-544ffe65c464",
   "metadata": {},
   "outputs": [
    {
     "name": "stdout",
     "output_type": "stream",
     "text": [
      "20/20 [==============================] - 0s 997us/step - loss: 17.8473\n"
     ]
    },
    {
     "data": {
      "text/plain": [
       "17.847332000732422"
      ]
     },
     "execution_count": 17,
     "metadata": {},
     "output_type": "execute_result"
    }
   ],
   "source": [
    "loss= model.evaluate(x_test,y_test,batch_size=1)\n",
    "loss"
   ]
  },
  {
   "cell_type": "code",
   "execution_count": null,
   "id": "46dfff80-fb3d-4d85-a673-8605c9db337c",
   "metadata": {},
   "outputs": [],
   "source": []
  }
 ],
 "metadata": {
  "kernelspec": {
   "display_name": "Python 3 (ipykernel)",
   "language": "python",
   "name": "python3"
  },
  "language_info": {
   "codemirror_mode": {
    "name": "ipython",
    "version": 3
   },
   "file_extension": ".py",
   "mimetype": "text/x-python",
   "name": "python",
   "nbconvert_exporter": "python",
   "pygments_lexer": "ipython3",
   "version": "3.9.12"
  }
 },
 "nbformat": 4,
 "nbformat_minor": 5
}
