{
 "cells": [
  {
   "cell_type": "code",
   "execution_count": null,
   "id": "240a9fb4-bbc0-4de6-a505-0cf4dd99d9f2",
   "metadata": {},
   "outputs": [],
   "source": [
    "from socket import *\n",
    "import time\n",
    "import threading\n",
    "\n",
    "clientSock = socket(AF_INET, SOCK_STREAM)\n",
    "clientSock.connect(('127.0.0.1',1234))\n",
    "msg=clientSock.recv(1024)\n",
    "print(f'응답된 메세지={msg.decode(\"utf-8\")}')\n",
    "\n",
    "clientSock.send('scott tiger'.encode('utf-8'))\n",
    "\n",
    "msg1=clientSock.recv(1024)\n",
    "print(f'응답된 메세지={msg1.decode(\"utf-8\")}')"
   ]
  },
  {
   "cell_type": "code",
   "execution_count": null,
   "id": "2637b3da-84a9-4007-91ba-588ded830262",
   "metadata": {},
   "outputs": [],
   "source": []
  }
 ],
 "metadata": {
  "kernelspec": {
   "display_name": "Python 3 (ipykernel)",
   "language": "python",
   "name": "python3"
  },
  "language_info": {
   "codemirror_mode": {
    "name": "ipython",
    "version": 3
   },
   "file_extension": ".py",
   "mimetype": "text/x-python",
   "name": "python",
   "nbconvert_exporter": "python",
   "pygments_lexer": "ipython3",
   "version": "3.9.12"
  }
 },
 "nbformat": 4,
 "nbformat_minor": 5
}
