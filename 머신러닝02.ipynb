{
 "cells": [
  {
   "cell_type": "markdown",
   "id": "fcdea5b1-62e5-4b52-a798-2d4bd06608f4",
   "metadata": {},
   "source": [
    "# scikitlearn 패키지를 활용한 선형회귀(Linear Regression)"
   ]
  },
  {
   "cell_type": "code",
   "execution_count": 1,
   "id": "d442fa5f-5563-4f8b-b930-bf97d06b525e",
   "metadata": {},
   "outputs": [],
   "source": [
    "# 직선의 방정식:y=a*x+b"
   ]
  },
  {
   "cell_type": "code",
   "execution_count": 2,
   "id": "03635d22-85a3-49de-974e-d4f385ca42be",
   "metadata": {},
   "outputs": [],
   "source": [
    "#머신러닝을 하려면\n",
    "#1. 학습용/검증용 데이터가 따로 존재해야 함"
   ]
  },
  {
   "cell_type": "code",
   "execution_count": 141,
   "id": "e75268af-69da-4db8-91b5-a67518d4e195",
   "metadata": {},
   "outputs": [
    {
     "data": {
      "text/plain": [
       "array([ 0,  1,  2,  3,  4,  5,  6,  7,  8,  9, 10, 11, 12, 13, 14, 15, 16,\n",
       "       17, 18, 19, 20, 21, 22, 23, 24, 25, 26, 27, 28, 29, 30, 31, 32, 33,\n",
       "       34, 35, 36, 37, 38, 39, 40, 41, 42, 43, 44, 45, 46, 47, 48, 49, 50,\n",
       "       51, 52, 53, 54, 55, 56, 57, 58, 59, 60, 61, 62, 63, 64, 65, 66, 67,\n",
       "       68, 69, 70, 71, 72, 73, 74, 75, 76, 77, 78, 79, 80, 81, 82, 83, 84,\n",
       "       85, 86, 87, 88, 89, 90, 91, 92, 93, 94, 95, 96, 97, 98, 99])"
      ]
     },
     "execution_count": 141,
     "metadata": {},
     "output_type": "execute_result"
    }
   ],
   "source": [
    "import numpy as np\n",
    "np.random.seed(0)\n",
    "y= np.arange(100)\n",
    "y"
   ]
  },
  {
   "cell_type": "code",
   "execution_count": 142,
   "id": "67c5b21a-a75f-4228-9f76-a4bc129c71e7",
   "metadata": {},
   "outputs": [
    {
     "data": {
      "text/plain": [
       "[<matplotlib.lines.Line2D at 0x1db370b5b20>]"
      ]
     },
     "execution_count": 142,
     "metadata": {},
     "output_type": "execute_result"
    },
    {
     "data": {
      "image/png": "[encoded data removed]",
      "text/plain": [
       "<Figure size 432x288 with 1 Axes>"
      ]
     },
     "metadata": {
      "needs_background": "light"
     },
     "output_type": "display_data"
    }
   ],
   "source": [
    "import matplotlib.pyplot as plt\n",
    "\n",
    "plt.plot(y)"
   ]
  },
  {
   "cell_type": "code",
   "execution_count": 143,
   "id": "7fd3201d-8965-453d-a3d0-d7922d8ebffa",
   "metadata": {},
   "outputs": [
    {
     "data": {
      "text/plain": [
       "array([ -3,   0,   6, -15, -12,  12, -12,  -8,  -6,   4,   6,   3, -11,\n",
       "         8,  -9,   9,   9,  -3,  11, -14,  -9,  -8,   8,  -1,   9,   2,\n",
       "       -10,  10,  -2,  -7,  -6,   5,   4,   1,   4, -10,   0,   0, -15,\n",
       "         3, -12,   9,   2,   4,  14,   4,   4,  -1,  -8, -15, -14,  -6,\n",
       "        10, -15,  -5,   5,   8, -12,  -4,   3,   8,  13, -13, -15, -15,\n",
       "       -11,   6, -10,  -9,  -7,   5,   2,   0, -11,  -6,  -5,  11,   9,\n",
       "       -14, -14,  -8,  -6,  10, -12,  -9,   8,  -4,  -1,   3,  12, -15,\n",
       "        -1, -12,   6,  -3,  10,  -5,   5,  -4, -11])"
      ]
     },
     "execution_count": 143,
     "metadata": {},
     "output_type": "execute_result"
    }
   ],
   "source": [
    "rd=np.random.randint(-15,15,100)\n",
    "rd"
   ]
  },
  {
   "cell_type": "code",
   "execution_count": 144,
   "id": "7187b9b4-798b-4b92-8d73-3a6b10162bdc",
   "metadata": {},
   "outputs": [],
   "source": [
    "import matplotlib.pyplot as plt\n",
    "\n",
    "y=y+rd\n",
    "y\n",
    "x=np.arange(100)"
   ]
  },
  {
   "cell_type": "code",
   "execution_count": 145,
   "id": "bf8f4311-836e-476c-960e-ae9e1dd9d009",
   "metadata": {},
   "outputs": [
    {
     "data": {
      "text/plain": [
       "<matplotlib.collections.PathCollection at 0x1db37119b50>"
      ]
     },
     "execution_count": 145,
     "metadata": {},
     "output_type": "execute_result"
    },
    {
     "data": {
      "image/png": "[encoded data removed]",
      "text/plain": [
       "<Figure size 432x288 with 1 Axes>"
      ]
     },
     "metadata": {
      "needs_background": "light"
     },
     "output_type": "display_data"
    }
   ],
   "source": [
    "plt.scatter(x,y ,s=10)"
   ]
  },
  {
   "cell_type": "code",
   "execution_count": 146,
   "id": "ccd6beaf-d72d-43de-ba29-f6bb0733821c",
   "metadata": {},
   "outputs": [],
   "source": [
    "#x가 문제, y는 답\n",
    "\n",
    "x_train=x[:80]\n",
    "y_train=y[:80]\n",
    "\n",
    "x_test=x[-20:]\n",
    "y_test=y[-20:]"
   ]
  },
  {
   "cell_type": "code",
   "execution_count": 147,
   "id": "fb535f7b-6ec4-4ff4-9c2b-24d08f575f81",
   "metadata": {},
   "outputs": [],
   "source": [
    "x_train=x_train.reshape(-1,1)"
   ]
  },
  {
   "cell_type": "code",
   "execution_count": 148,
   "id": "1b110cb2-153b-4859-a805-e678f7b6eddd",
   "metadata": {},
   "outputs": [],
   "source": [
    "from sklearn import linear_model\n",
    "linreg= linear_model.LinearRegression()"
   ]
  },
  {
   "cell_type": "code",
   "execution_count": 149,
   "id": "df01d472-9bf1-40c2-ad45-dfb7b47629eb",
   "metadata": {},
   "outputs": [
    {
     "data": {
      "text/plain": [
       "LinearRegression()"
      ]
     },
     "execution_count": 149,
     "metadata": {},
     "output_type": "execute_result"
    }
   ],
   "source": [
    "linreg.fit(x_train,y_train)\n",
    "#x는 1차원 데이터가 아닌 2차원 데이터를 넣어야함\n",
    "#y는 답은 한개이므로 1차원"
   ]
  },
  {
   "cell_type": "code",
   "execution_count": 150,
   "id": "9a568b04-d575-4b86-bcdb-69de324e0574",
   "metadata": {},
   "outputs": [
    {
     "data": {
      "text/plain": [
       "(array([0.96024379]), -0.32962962962962195)"
      ]
     },
     "execution_count": 150,
     "metadata": {},
     "output_type": "execute_result"
    }
   ],
   "source": [
    "linreg.coef_, linreg.intercept_"
   ]
  },
  {
   "cell_type": "code",
   "execution_count": 151,
   "id": "f4f39705-83e9-4b6c-9b72-a4224d6d176b",
   "metadata": {},
   "outputs": [
    {
     "data": {
      "text/plain": [
       "array([76.48987342, 77.45011721, 78.41036099, 79.37060478, 80.33084857,\n",
       "       81.29109236, 82.25133615, 83.21157993, 84.17182372, 85.13206751,\n",
       "       86.0923113 , 87.05255509, 88.01279887, 88.97304266, 89.93328645,\n",
       "       90.89353024, 91.85377403, 92.81401782, 93.7742616 , 94.73450539])"
      ]
     },
     "execution_count": 151,
     "metadata": {},
     "output_type": "execute_result"
    }
   ],
   "source": [
    "linreg.predict(x_test.reshape(-1,1))"
   ]
  },
  {
   "cell_type": "code",
   "execution_count": 152,
   "id": "93ae0b20-7e82-4623-ae41-4841771a6a1b",
   "metadata": {},
   "outputs": [
    {
     "data": {
      "text/plain": [
       "0.32248397967548326"
      ]
     },
     "execution_count": 152,
     "metadata": {},
     "output_type": "execute_result"
    }
   ],
   "source": [
    "linreg.score(x_test.reshape(-1,1),y_test)"
   ]
  },
  {
   "cell_type": "code",
   "execution_count": 154,
   "id": "85d7e215-7319-480e-8830-04b716be430e",
   "metadata": {},
   "outputs": [
    {
     "data": {
      "text/plain": [
       "[<matplotlib.lines.Line2D at 0x1db371ecaf0>]"
      ]
     },
     "execution_count": 154,
     "metadata": {},
     "output_type": "execute_result"
    },
    {
     "data": {
      "image/png": "[encoded data removed]",
      "text/plain": [
       "<Figure size 432x288 with 1 Axes>"
      ]
     },
     "metadata": {
      "needs_background": "light"
     },
     "output_type": "display_data"
    }
   ],
   "source": [
    "\n",
    "\n",
    "plt.scatter(x,y ,s=10)\n",
    "\n",
    "a=linreg.coef_#모델이 가지고 있는 계수\n",
    "b=linreg.intercept_#절편\n",
    "y=a*x+b\n",
    "plt.plot(x,y,'r')\n"
   ]
  },
  {
   "cell_type": "code",
   "execution_count": 128,
   "id": "8ac72855-2923-441e-b64c-159e6d8560ff",
   "metadata": {},
   "outputs": [
    {
     "data": {
      "text/plain": [
       "array([143.70693858, 191.71912799])"
      ]
     },
     "execution_count": 128,
     "metadata": {},
     "output_type": "execute_result"
    }
   ],
   "source": [
    "linreg.predict([[150],[200]])\n"
   ]
  },
  {
   "cell_type": "markdown",
   "id": "e4608cbd-f162-414c-8912-c9de5cad4cd0",
   "metadata": {},
   "source": [
    "# 기울기 0.5, 절편20인 데이터 셋"
   ]
  },
  {
   "cell_type": "code",
   "execution_count": 164,
   "id": "99d6b38b-fe32-415c-b622-d81d6624fa9e",
   "metadata": {},
   "outputs": [],
   "source": [
    "x=np.arange(100)\n",
    "y=0.5*x+20\n",
    "\n",
    "noise=np.random.randint(-10,10,100)\n",
    "y2=y+noise"
   ]
  },
  {
   "cell_type": "code",
   "execution_count": 168,
   "id": "974ab3b9-6ce5-415a-afe2-62b509145b55",
   "metadata": {},
   "outputs": [
    {
     "data": {
      "text/plain": [
       "[<matplotlib.lines.Line2D at 0x1db3798ae50>]"
      ]
     },
     "execution_count": 168,
     "metadata": {},
     "output_type": "execute_result"
    },
    {
     "data": {
      "image/png": "[encoded data removed]",
      "text/plain": [
       "<Figure size 432x288 with 1 Axes>"
      ]
     },
     "metadata": {
      "needs_background": "light"
     },
     "output_type": "display_data"
    }
   ],
   "source": [
    "plt.axis([0,100,0,100])\n",
    "plt.scatter(x,y2,s=5)\n",
    "plt.plot(x,y,'r')"
   ]
  },
  {
   "cell_type": "code",
   "execution_count": 172,
   "id": "c2a3e9a1-6ccb-440a-8d23-396906dbc298",
   "metadata": {},
   "outputs": [],
   "source": [
    "x_train=x[:80].reshape(-1,1)\n",
    "y2_train=y2[:80]\n",
    "\n",
    "x_test=x[-20:].reshape(-1,1)\n",
    "y2_test=y2[-20:]"
   ]
  },
  {
   "cell_type": "code",
   "execution_count": 173,
   "id": "a0cbf5e2-f240-40a2-865a-3884ab287c63",
   "metadata": {},
   "outputs": [],
   "source": [
    "linreg= linear_model.LinearRegression()"
   ]
  },
  {
   "cell_type": "code",
   "execution_count": 174,
   "id": "626f5795-3a1d-4ac6-aea0-696810cf57d2",
   "metadata": {},
   "outputs": [
    {
     "data": {
      "text/plain": [
       "LinearRegression()"
      ]
     },
     "execution_count": 174,
     "metadata": {},
     "output_type": "execute_result"
    }
   ],
   "source": [
    "linreg.fit(x_train,y2_train)"
   ]
  },
  {
   "cell_type": "code",
   "execution_count": 175,
   "id": "74f2f44e-77be-406f-b267-8ca0f970eaa1",
   "metadata": {},
   "outputs": [
    {
     "data": {
      "text/plain": [
       "(array([0.50424285]), 18.80740740740741)"
      ]
     },
     "execution_count": 175,
     "metadata": {},
     "output_type": "execute_result"
    }
   ],
   "source": [
    "linreg.coef_, linreg.intercept_"
   ]
  },
  {
   "cell_type": "code",
   "execution_count": 176,
   "id": "3f212d95-19a8-4906-b150-ba7d38832cc3",
   "metadata": {},
   "outputs": [
    {
     "data": {
      "text/plain": [
       "array([59.14683544, 59.65107829, 60.15532114, 60.65956399, 61.16380684,\n",
       "       61.6680497 , 62.17229255, 62.6765354 , 63.18077825, 63.6850211 ,\n",
       "       64.18926395, 64.6935068 , 65.19774965, 65.7019925 , 66.20623535,\n",
       "       66.7104782 , 67.21472105, 67.7189639 , 68.22320675, 68.7274496 ])"
      ]
     },
     "execution_count": 176,
     "metadata": {},
     "output_type": "execute_result"
    }
   ],
   "source": [
    "linreg.predict(x_test)"
   ]
  },
  {
   "cell_type": "code",
   "execution_count": 180,
   "id": "d701ef83-c7b2-45ff-83d9-cadb5ac7e5d1",
   "metadata": {},
   "outputs": [
    {
     "data": {
      "text/plain": [
       "<matplotlib.legend.Legend at 0x1db38fc4c10>"
      ]
     },
     "execution_count": 180,
     "metadata": {},
     "output_type": "execute_result"
    },
    {
     "data": {
      "image/png": "[encoded data removed]",
      "text/plain": [
       "<Figure size 432x288 with 1 Axes>"
      ]
     },
     "metadata": {
      "needs_background": "light"
     },
     "output_type": "display_data"
    }
   ],
   "source": [
    "plt.axis([0,100,0,100])\n",
    "plt.scatter(x,y2,s=5)\n",
    "\n",
    "a=linreg.coef_#모델이 가지고 있는 계수\n",
    "b=linreg.intercept_#절편\n",
    "y=a*x+b\n",
    "plt.plot(x,y,'r')\n",
    "\n",
    "\n",
    "\n"
   ]
  },
  {
   "cell_type": "code",
   "execution_count": 181,
   "id": "0c0fb938-d0b6-402f-9c02-30c5a211a4fa",
   "metadata": {},
   "outputs": [
    {
     "data": {
      "text/plain": [
       "(array([0.50424285]), 18.80740740740741)"
      ]
     },
     "execution_count": 181,
     "metadata": {},
     "output_type": "execute_result"
    }
   ],
   "source": [
    "linreg.coef_, linreg.intercept_"
   ]
  },
  {
   "cell_type": "code",
   "execution_count": 184,
   "id": "e00f6518-d1f1-4a9d-b95b-638da9b068d3",
   "metadata": {},
   "outputs": [
    {
     "data": {
      "text/plain": [
       "0.17413216634941475"
      ]
     },
     "execution_count": 184,
     "metadata": {},
     "output_type": "execute_result"
    }
   ],
   "source": [
    "linreg.score(x_test,y2_test)"
   ]
  },
  {
   "cell_type": "code",
   "execution_count": 186,
   "id": "7c2965bd-6d52-432d-ada5-2ac344717f6b",
   "metadata": {},
   "outputs": [
    {
     "data": {
      "text/plain": [
       "array([523.05025785])"
      ]
     },
     "execution_count": 186,
     "metadata": {},
     "output_type": "execute_result"
    }
   ],
   "source": [
    "linreg.predict([[1000]])"
   ]
  },
  {
   "cell_type": "code",
   "execution_count": 229,
   "id": "77562672-30bb-406b-8e0b-86b373768393",
   "metadata": {},
   "outputs": [],
   "source": [
    "from sklearn.datasets import make_regression\n",
    "from sklearn.linear_model import HuberRegressor, Ridge\n",
    "\n",
    "#알아서 데이터 만들어줌\n",
    "X,y = make_regression(\n",
    "    n_samples=100, n_features=3, random_state=0, noise=10.0, bias=100.0\n",
    ")\n",
    "#features는 답에 영향을 미치는 요인의 개수"
   ]
  },
  {
   "cell_type": "code",
   "execution_count": 230,
   "id": "48586c9e-a6b0-4fe4-9bca-316525e559b9",
   "metadata": {},
   "outputs": [
    {
     "data": {
      "text/plain": [
       "array([[-1.09306151, -1.49125759,  0.39600671],\n",
       "       [-0.65240858, -0.39095338,  0.39009332],\n",
       "       [-0.87079715, -0.57884966, -0.68481009],\n",
       "       [ 1.13689136,  0.09772497, -0.1359497 ],\n",
       "       [-1.00021535, -1.5447711 ,  0.84436298],\n",
       "       [ 0.61037938, -1.18885926, -1.5829384 ],\n",
       "       [-1.23482582,  0.40234164,  1.13940068],\n",
       "       [ 0.37915174,  2.25930895, -0.01702041],\n",
       "       [ 1.86755799, -0.97727788,  2.2408932 ],\n",
       "       [ 0.68159452, -0.80340966, -1.03424284],\n",
       "       [-1.45436567,  0.04575852,  2.26975462],\n",
       "       [ 0.2799246 , -0.09815039, -0.73803091],\n",
       "       [-1.31590741, -0.4615846 ,  1.11701629],\n",
       "       [-0.54286148,  0.41605005, -0.49331988],\n",
       "       [-0.31932842,  0.69153875,  0.14195316],\n",
       "       [ 1.33652795, -0.36918184,  2.16323595],\n",
       "       [-0.11610394, -2.03068447,  0.49374178],\n",
       "       [ 0.1887786 ,  0.52389102, -1.93627981],\n",
       "       [ 0.3563664 ,  0.70657317,  0.97663904],\n",
       "       [-0.39944903,  0.37005589,  0.58295368],\n",
       "       [-0.11054066,  1.02017271,  2.06449286],\n",
       "       [-0.15135721, -0.10321885,  0.95008842],\n",
       "       [ 0.96939671, -1.17312341, -1.270485  ],\n",
       "       [ 1.84926373,  0.67229476, -0.43515355],\n",
       "       [ 2.3039167 , -1.06001582, -0.48102712],\n",
       "       [-0.34791215,  0.15634897, -1.98079647],\n",
       "       [-2.77259276,  1.95591231,  0.39904635],\n",
       "       [ 1.89588918,  1.17877957,  1.48825219],\n",
       "       [ 0.57659082, -0.20829876,  0.67643329],\n",
       "       [-0.41361898, -0.74745481,  1.94362119],\n",
       "       [ 0.61407937,  0.92220667, -0.15501009],\n",
       "       [-0.69456786, -0.14963454,  1.3263859 ],\n",
       "       [ 1.07961859, -0.81336426,  1.15233156],\n",
       "       [ 0.31721822,  0.78632796,  0.91017891],\n",
       "       [-0.09845252, -0.66347829, -0.82643854],\n",
       "       [ 0.46566244, -1.53624369,  0.90082649],\n",
       "       [ 0.85683061, -0.65102559,  0.31872765],\n",
       "       [ 0.15650654,  0.23218104,  0.06326199],\n",
       "       [ 1.0996596 ,  0.65526373, -0.23937918],\n",
       "       [ 0.62523145, -1.60205766, -2.22340315],\n",
       "       [ 0.12167502,  0.44386323,  0.76103773],\n",
       "       [ 1.8831507 , -1.34775906,  0.40198936],\n",
       "       [ 1.9507754 , -0.50965218, -1.70627019],\n",
       "       [ 1.30184623, -0.62808756,  0.68981816],\n",
       "       [ 0.31694261,  0.92085882,  1.18802979],\n",
       "       [ 0.03183056, -0.63584608, -0.67433266],\n",
       "       [ 1.71334272, -0.74475482, -0.06824161],\n",
       "       [-0.51080514, -1.18063218,  0.3869025 ],\n",
       "       [ 0.7811981 ,  1.49448454, -1.15618243],\n",
       "       [-0.35955316, -0.81314628, -0.67246045],\n",
       "       [ 1.53277921,  1.46935877, -0.18718385],\n",
       "       [-0.59631404, -0.0525673 , -0.50681635],\n",
       "       [-1.37495129, -0.6436184 , -0.35399391],\n",
       "       [ 0.08755124, -1.22543552,  0.94942081],\n",
       "       [ 0.14404357,  1.45427351,  0.4105985 ],\n",
       "       [ 0.48148147, -1.54079701, -0.46359597],\n",
       "       [-0.39727181, -0.13288058, -0.63743703],\n",
       "       [ 0.72909056,  0.12898291,  0.0519454 ],\n",
       "       [ 0.40015721,  0.97873798,  1.76405235],\n",
       "       [-0.94444626, -0.41004969, -0.4664191 ],\n",
       "       [-0.21274028, -0.89546656, -1.61389785],\n",
       "       [-1.07993151, -1.14746865,  1.12663592],\n",
       "       [ 0.8644362 , -0.74216502,  0.6536186 ],\n",
       "       [ 0.8024564 ,  0.94725197, -0.26800337],\n",
       "       [-0.955945  , -0.34598178, -0.04225715],\n",
       "       [ 0.52106488, -0.57578797, -1.46642433],\n",
       "       [-1.61695604, -0.02432612,  0.64013153],\n",
       "       [ 1.48051479,  1.86755896,  1.92294203],\n",
       "       [-0.30901297, -1.67600381, -0.29779088],\n",
       "       [-0.63432209, -0.36274117,  0.3024719 ],\n",
       "       [ 0.46278226, -0.90729836, -1.63019835],\n",
       "       [-1.07075262,  1.05445173, -0.17992484],\n",
       "       [-1.1680935 ,  0.52327666, -0.03928282],\n",
       "       [ 1.20237985, -0.38732682,  1.23029068],\n",
       "       [ 0.37816252, -0.88778575,  0.15494743],\n",
       "       [-1.04525337,  1.21114529,  0.60884383],\n",
       "       [ 1.78587049,  0.12691209,  0.01050002],\n",
       "       [-0.4555325 ,  0.01747916, -0.68954978],\n",
       "       [-0.86122569,  1.91006495,  0.90604466],\n",
       "       [-1.29285691,  0.26705087,  1.5430146 ],\n",
       "       [-1.25279536,  0.77749036, -0.4380743 ],\n",
       "       [ 1.49407907, -0.20515826,  0.33367433],\n",
       "       [ 1.22244507,  0.20827498, -0.40317695],\n",
       "       [ 0.05616534, -1.16514984, -0.31155253],\n",
       "       [-1.09940079,  0.29823817,  0.37642553],\n",
       "       [ 0.94447949, -0.91282223,  2.38314477],\n",
       "       [-0.85409574, -2.55298982,  0.3130677 ],\n",
       "       [-0.72559738, -1.38336396,  0.69474914],\n",
       "       [-1.04855297, -1.42001794, -0.30230275],\n",
       "       [-0.31088617,  0.09740017,  0.08842209],\n",
       "       [ 0.42833187,  0.06651722, -0.02818223],\n",
       "       [ 0.17742614, -0.40178094, -1.7262826 ],\n",
       "       [ 1.53637705,  0.28634369, -0.69204985],\n",
       "       [ 0.1666735 ,  0.63503144,  0.4393917 ],\n",
       "       [-0.23792173, -1.42406091, -0.59731607],\n",
       "       [ 0.05216508, -0.739563  , -1.10438334],\n",
       "       [ 0.42625873,  0.67690804, -2.06998503],\n",
       "       [-0.76991607,  0.53924919,  0.40746184],\n",
       "       [ 0.77179055,  0.82350415, -0.17154633],\n",
       "       [-0.49803245,  1.92953205, -0.43782004]])"
      ]
     },
     "execution_count": 230,
     "metadata": {},
     "output_type": "execute_result"
    }
   ],
   "source": [
    "X"
   ]
  },
  {
   "cell_type": "code",
   "execution_count": 231,
   "id": "857b6e97-ded2-4af8-b328-3e0eee3ca664",
   "metadata": {},
   "outputs": [
    {
     "data": {
      "text/plain": [
       "[<matplotlib.lines.Line2D at 0x1db3967fc70>]"
      ]
     },
     "execution_count": 231,
     "metadata": {},
     "output_type": "execute_result"
    },
    {
     "data": {
      "image/png": "[encoded data removed]",
      "text/plain": [
       "<Figure size 432x288 with 1 Axes>"
      ]
     },
     "metadata": {
      "needs_background": "light"
     },
     "output_type": "display_data"
    }
   ],
   "source": [
    "plt.plot(np.arange(100),y,'.')"
   ]
  },
  {
   "cell_type": "code",
   "execution_count": 232,
   "id": "4d1f11b8-fedb-4fed-9f35-ec379b80cf61",
   "metadata": {},
   "outputs": [
    {
     "data": {
      "text/plain": [
       "<matplotlib.collections.PathCollection at 0x1db396a8e50>"
      ]
     },
     "execution_count": 232,
     "metadata": {},
     "output_type": "execute_result"
    },
    {
     "data": {
      "image/png": "[encoded data removed]",
      "text/plain": [
       "<Figure size 432x288 with 1 Axes>"
      ]
     },
     "metadata": {
      "needs_background": "light"
     },
     "output_type": "display_data"
    }
   ],
   "source": [
    "X[:,0]#x1\n",
    "\n",
    "plt.scatter(X[:,0],y)\n",
    "#X의 첫번째 값들과(3차원) y와의 관계\n",
    "#많이 퍼져 있으면 상관관계가 적은것"
   ]
  },
  {
   "cell_type": "code",
   "execution_count": 233,
   "id": "5012419a-1ac1-4135-b3c0-f374b7064de3",
   "metadata": {},
   "outputs": [
    {
     "data": {
      "text/plain": [
       "<matplotlib.collections.PathCollection at 0x1db396be880>"
      ]
     },
     "execution_count": 233,
     "metadata": {},
     "output_type": "execute_result"
    },
    {
     "data": {
      "image/png": "[encoded data removed]",
      "text/plain": [
       "<Figure size 432x288 with 1 Axes>"
      ]
     },
     "metadata": {
      "needs_background": "light"
     },
     "output_type": "display_data"
    }
   ],
   "source": [
    "X[:,1]#x2\n",
    "\n",
    "plt.scatter(X[:,1],y)"
   ]
  },
  {
   "cell_type": "code",
   "execution_count": 234,
   "id": "8b764bf6-906c-495d-8f54-dd259d93778a",
   "metadata": {},
   "outputs": [
    {
     "data": {
      "text/plain": [
       "<matplotlib.collections.PathCollection at 0x1db3ad4e9a0>"
      ]
     },
     "execution_count": 234,
     "metadata": {},
     "output_type": "execute_result"
    },
    {
     "data": {
      "image/png": "[encoded data removed]",
      "text/plain": [
       "<Figure size 432x288 with 1 Axes>"
      ]
     },
     "metadata": {
      "needs_background": "light"
     },
     "output_type": "display_data"
    }
   ],
   "source": [
    "X[:,2]#x3\n",
    "\n",
    "plt.scatter(X[:,2],y)\n",
    "#가장 큰 상관관계를 가지고 있음\n",
    "#이를 보고 가장 y값의 영향을 미치는 요인인 것을 알 수 있음"
   ]
  },
  {
   "cell_type": "code",
   "execution_count": 235,
   "id": "669053a1-6759-46a7-8f08-ea2b241ee4a7",
   "metadata": {},
   "outputs": [
    {
     "data": {
      "text/plain": [
       "array([[1.        , 0.83000816],\n",
       "       [0.83000816, 1.        ]])"
      ]
     },
     "execution_count": 235,
     "metadata": {},
     "output_type": "execute_result"
    }
   ],
   "source": [
    "np.corrcoef(X[:,0],y)\n",
    "np.corrcoef(X[:,1],y)\n",
    "np.corrcoef(X[:,2],y)#상관성이 가장 강함"
   ]
  },
  {
   "cell_type": "code",
   "execution_count": 251,
   "id": "a40481be-0526-4dec-9de6-55bb4ab1c10d",
   "metadata": {},
   "outputs": [],
   "source": [
    "X_train=X[:80,:]\n",
    "y_train=y[:80]\n",
    "\n",
    "X_test=X[:-20:,:]\n",
    "y_test=y[-20:]"
   ]
  },
  {
   "cell_type": "code",
   "execution_count": 252,
   "id": "6a8dc978-c572-4396-b8d9-3a083d08d7f2",
   "metadata": {},
   "outputs": [],
   "source": [
    "linreg= linear_model.LinearRegression()"
   ]
  },
  {
   "cell_type": "code",
   "execution_count": 253,
   "id": "718a6ce6-d1cd-441f-a0ed-e7b71137e42f",
   "metadata": {},
   "outputs": [
    {
     "data": {
      "text/plain": [
       "LinearRegression()"
      ]
     },
     "execution_count": 253,
     "metadata": {},
     "output_type": "execute_result"
    }
   ],
   "source": [
    "linreg.fit(X_train,y_train)"
   ]
  },
  {
   "cell_type": "code",
   "execution_count": 254,
   "id": "cdf7a00e-5cca-4ec3-b282-8bbfc02486a8",
   "metadata": {},
   "outputs": [
    {
     "data": {
      "text/plain": [
       "(array([40.10623988,  7.55320588, 61.5175415 ]), 97.95603668916246)"
      ]
     },
     "execution_count": 254,
     "metadata": {},
     "output_type": "execute_result"
    }
   ],
   "source": [
    "linreg.coef_, linreg.intercept_"
   ]
  },
  {
   "cell_type": "code",
   "execution_count": 255,
   "id": "22db1a63-60eb-415c-b581-fb51299304b3",
   "metadata": {},
   "outputs": [
    {
     "ename": "ValueError",
     "evalue": "Found input variables with inconsistent numbers of samples: [20, 80]",
     "output_type": "error",
     "traceback": [
      "\u001b[1;31m---------------------------------------------------------------------------\u001b[0m",
      "\u001b[1;31mValueError\u001b[0m                                Traceback (most recent call last)",
      "Input \u001b[1;32mIn [255]\u001b[0m, in \u001b[0;36m<cell line: 1>\u001b[1;34m()\u001b[0m\n\u001b[1;32m----> 1\u001b[0m \u001b[43mlinreg\u001b[49m\u001b[38;5;241;43m.\u001b[39;49m\u001b[43mscore\u001b[49m\u001b[43m(\u001b[49m\u001b[43mX_test\u001b[49m\u001b[43m,\u001b[49m\u001b[43my_test\u001b[49m\u001b[43m)\u001b[49m\n",
      "File \u001b[1;32m~\\anaconda3\\lib\\site-packages\\sklearn\\base.py:706\u001b[0m, in \u001b[0;36mRegressorMixin.score\u001b[1;34m(self, X, y, sample_weight)\u001b[0m\n\u001b[0;32m    703\u001b[0m \u001b[38;5;28;01mfrom\u001b[39;00m \u001b[38;5;21;01m.\u001b[39;00m\u001b[38;5;21;01mmetrics\u001b[39;00m \u001b[38;5;28;01mimport\u001b[39;00m r2_score\n\u001b[0;32m    705\u001b[0m y_pred \u001b[38;5;241m=\u001b[39m \u001b[38;5;28mself\u001b[39m\u001b[38;5;241m.\u001b[39mpredict(X)\n\u001b[1;32m--> 706\u001b[0m \u001b[38;5;28;01mreturn\u001b[39;00m \u001b[43mr2_score\u001b[49m\u001b[43m(\u001b[49m\u001b[43my\u001b[49m\u001b[43m,\u001b[49m\u001b[43m \u001b[49m\u001b[43my_pred\u001b[49m\u001b[43m,\u001b[49m\u001b[43m \u001b[49m\u001b[43msample_weight\u001b[49m\u001b[38;5;241;43m=\u001b[39;49m\u001b[43msample_weight\u001b[49m\u001b[43m)\u001b[49m\n",
      "File \u001b[1;32m~\\anaconda3\\lib\\site-packages\\sklearn\\metrics\\_regression.py:789\u001b[0m, in \u001b[0;36mr2_score\u001b[1;34m(y_true, y_pred, sample_weight, multioutput)\u001b[0m\n\u001b[0;32m    702\u001b[0m \u001b[38;5;28;01mdef\u001b[39;00m \u001b[38;5;21mr2_score\u001b[39m(y_true, y_pred, \u001b[38;5;241m*\u001b[39m, sample_weight\u001b[38;5;241m=\u001b[39m\u001b[38;5;28;01mNone\u001b[39;00m, multioutput\u001b[38;5;241m=\u001b[39m\u001b[38;5;124m\"\u001b[39m\u001b[38;5;124muniform_average\u001b[39m\u001b[38;5;124m\"\u001b[39m):\n\u001b[0;32m    703\u001b[0m     \u001b[38;5;124;03m\"\"\":math:`R^2` (coefficient of determination) regression score function.\u001b[39;00m\n\u001b[0;32m    704\u001b[0m \n\u001b[0;32m    705\u001b[0m \u001b[38;5;124;03m    Best possible score is 1.0 and it can be negative (because the\u001b[39;00m\n\u001b[1;32m   (...)\u001b[0m\n\u001b[0;32m    787\u001b[0m \u001b[38;5;124;03m    -3.0\u001b[39;00m\n\u001b[0;32m    788\u001b[0m \u001b[38;5;124;03m    \"\"\"\u001b[39;00m\n\u001b[1;32m--> 789\u001b[0m     y_type, y_true, y_pred, multioutput \u001b[38;5;241m=\u001b[39m \u001b[43m_check_reg_targets\u001b[49m\u001b[43m(\u001b[49m\n\u001b[0;32m    790\u001b[0m \u001b[43m        \u001b[49m\u001b[43my_true\u001b[49m\u001b[43m,\u001b[49m\u001b[43m \u001b[49m\u001b[43my_pred\u001b[49m\u001b[43m,\u001b[49m\u001b[43m \u001b[49m\u001b[43mmultioutput\u001b[49m\n\u001b[0;32m    791\u001b[0m \u001b[43m    \u001b[49m\u001b[43m)\u001b[49m\n\u001b[0;32m    792\u001b[0m     check_consistent_length(y_true, y_pred, sample_weight)\n\u001b[0;32m    794\u001b[0m     \u001b[38;5;28;01mif\u001b[39;00m _num_samples(y_pred) \u001b[38;5;241m<\u001b[39m \u001b[38;5;241m2\u001b[39m:\n",
      "File \u001b[1;32m~\\anaconda3\\lib\\site-packages\\sklearn\\metrics\\_regression.py:94\u001b[0m, in \u001b[0;36m_check_reg_targets\u001b[1;34m(y_true, y_pred, multioutput, dtype)\u001b[0m\n\u001b[0;32m     60\u001b[0m \u001b[38;5;28;01mdef\u001b[39;00m \u001b[38;5;21m_check_reg_targets\u001b[39m(y_true, y_pred, multioutput, dtype\u001b[38;5;241m=\u001b[39m\u001b[38;5;124m\"\u001b[39m\u001b[38;5;124mnumeric\u001b[39m\u001b[38;5;124m\"\u001b[39m):\n\u001b[0;32m     61\u001b[0m     \u001b[38;5;124;03m\"\"\"Check that y_true and y_pred belong to the same regression task.\u001b[39;00m\n\u001b[0;32m     62\u001b[0m \n\u001b[0;32m     63\u001b[0m \u001b[38;5;124;03m    Parameters\u001b[39;00m\n\u001b[1;32m   (...)\u001b[0m\n\u001b[0;32m     92\u001b[0m \u001b[38;5;124;03m        the dtype argument passed to check_array.\u001b[39;00m\n\u001b[0;32m     93\u001b[0m \u001b[38;5;124;03m    \"\"\"\u001b[39;00m\n\u001b[1;32m---> 94\u001b[0m     \u001b[43mcheck_consistent_length\u001b[49m\u001b[43m(\u001b[49m\u001b[43my_true\u001b[49m\u001b[43m,\u001b[49m\u001b[43m \u001b[49m\u001b[43my_pred\u001b[49m\u001b[43m)\u001b[49m\n\u001b[0;32m     95\u001b[0m     y_true \u001b[38;5;241m=\u001b[39m check_array(y_true, ensure_2d\u001b[38;5;241m=\u001b[39m\u001b[38;5;28;01mFalse\u001b[39;00m, dtype\u001b[38;5;241m=\u001b[39mdtype)\n\u001b[0;32m     96\u001b[0m     y_pred \u001b[38;5;241m=\u001b[39m check_array(y_pred, ensure_2d\u001b[38;5;241m=\u001b[39m\u001b[38;5;28;01mFalse\u001b[39;00m, dtype\u001b[38;5;241m=\u001b[39mdtype)\n",
      "File \u001b[1;32m~\\anaconda3\\lib\\site-packages\\sklearn\\utils\\validation.py:332\u001b[0m, in \u001b[0;36mcheck_consistent_length\u001b[1;34m(*arrays)\u001b[0m\n\u001b[0;32m    330\u001b[0m uniques \u001b[38;5;241m=\u001b[39m np\u001b[38;5;241m.\u001b[39munique(lengths)\n\u001b[0;32m    331\u001b[0m \u001b[38;5;28;01mif\u001b[39;00m \u001b[38;5;28mlen\u001b[39m(uniques) \u001b[38;5;241m>\u001b[39m \u001b[38;5;241m1\u001b[39m:\n\u001b[1;32m--> 332\u001b[0m     \u001b[38;5;28;01mraise\u001b[39;00m \u001b[38;5;167;01mValueError\u001b[39;00m(\n\u001b[0;32m    333\u001b[0m         \u001b[38;5;124m\"\u001b[39m\u001b[38;5;124mFound input variables with inconsistent numbers of samples: \u001b[39m\u001b[38;5;132;01m%r\u001b[39;00m\u001b[38;5;124m\"\u001b[39m\n\u001b[0;32m    334\u001b[0m         \u001b[38;5;241m%\u001b[39m [\u001b[38;5;28mint\u001b[39m(l) \u001b[38;5;28;01mfor\u001b[39;00m l \u001b[38;5;129;01min\u001b[39;00m lengths]\n\u001b[0;32m    335\u001b[0m     )\n",
      "\u001b[1;31mValueError\u001b[0m: Found input variables with inconsistent numbers of samples: [20, 80]"
     ]
    }
   ],
   "source": [
    "linreg.score(X_test,y_test)"
   ]
  },
  {
   "cell_type": "code",
   "execution_count": null,
   "id": "cdfa86f3-e741-4242-afe4-120ccf42f5c8",
   "metadata": {},
   "outputs": [],
   "source": []
  }
 ],
 "metadata": {
  "kernelspec": {
   "display_name": "Python 3 (ipykernel)",
   "language": "python",
   "name": "python3"
  },
  "language_info": {
   "codemirror_mode": {
    "name": "ipython",
    "version": 3
   },
   "file_extension": ".py",
   "mimetype": "text/x-python",
   "name": "python",
   "nbconvert_exporter": "python",
   "pygments_lexer": "ipython3",
   "version": "3.9.12"
  }
 },
 "nbformat": 4,
 "nbformat_minor": 5
}
