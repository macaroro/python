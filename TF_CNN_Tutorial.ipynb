{
 "cells": [
  {
   "cell_type": "markdown",
   "id": "62f61df0",
   "metadata": {},
   "source": [
    "https://cnvrg.io/cnn-tensorflow/\n",
    "* Convolution Neural Network\n",
    "* Convolution 과정을 통해 이미지의 특징을 추출\n",
    "* Feature map : 이미지의 특징을 추출하여 저장한 또 다른 이미지\n",
    "* Feature detector : kernel, filter, 3x3 matrix\n",
    "* 필터와 이미지 데이터의 곱셈, 그 결과를 합산(내적)하여 Feature map 산출\n",
    "* 위의 내적 연산을 하면서 옆으로 이동하면서 다시 곱셈 수행\n",
    "* Strides로 필터의 이동 폭 조절 가능\n",
    "* 필터는 CNN 생성시 정의 가능\n",
    "* 필터 연산을 마치면 이미지의 특징은 feature map 에 남고 크기는 축소\n",
    "* Pooling(max-pooling, average-pooling, min-pooling) : 결과는 pooled feature map\n",
    "* Pooling 과정을 거치면 특징은 pooled feature map 에 남고 크기는 더 축소됨\n",
    "* Flattening : pooled feature map을 1차원으로 변환하여 전결합층에 전달 준비\n",
    "* Fully connected layer: 일반 신경망으로 구성되어 학습이 수행되는 단계\n",
    "* 출력 : 이진분류라면 sigmoid, 다중분류라면 softmax 같은 활성함수 사용\n",
    "* filter적용 -> pooling -> filter 적용 -> pooling 반복, -> flatten -> fully conn layer"
   ]
  },
  {
   "cell_type": "code",
   "execution_count": 1,
   "id": "a45a1596",
   "metadata": {},
   "outputs": [],
   "source": [
    "# Keras MNIST CNN example\n",
    "\n",
    "import numpy as np\n",
    "from tensorflow import keras\n",
    "from tensorflow.keras.models import *\n",
    "from tensorflow.keras import layers\n",
    "from tensorflow.keras.layers import *\n",
    "import matplotlib.pyplot as plt"
   ]
  },
  {
   "cell_type": "code",
   "execution_count": 2,
   "id": "30456332",
   "metadata": {},
   "outputs": [
    {
     "name": "stdout",
     "output_type": "stream",
     "text": [
      "Downloading data from https://storage.googleapis.com/tensorflow/tf-keras-datasets/mnist.npz\n",
      "11490434/11490434 [==============================] - 0s 0us/step\n"
     ]
    },
    {
     "data": {
      "text/plain": [
       "((60000, 28, 28), (60000,), (10000, 28, 28), (10000,))"
      ]
     },
     "execution_count": 2,
     "metadata": {},
     "output_type": "execute_result"
    }
   ],
   "source": [
    "# Model / data parameters\n",
    "num_classes = 10\n",
    "input_shape = (28, 28, 1)\n",
    "\n",
    "# the data, split between train and test sets\n",
    "(x_train, y_train), (x_test, y_test) = keras.datasets.mnist.load_data()\n",
    "x_train.shape, y_train.shape, x_test.shape, y_test.shape"
   ]
  },
  {
   "cell_type": "code",
   "execution_count": 3,
   "id": "594018aa",
   "metadata": {},
   "outputs": [
    {
     "data": {
      "image/png": "[encoded data removed]",
      "text/plain": [
       "<Figure size 432x288 with 9 Axes>"
      ]
     },
     "metadata": {
      "needs_background": "light"
     },
     "output_type": "display_data"
    }
   ],
   "source": [
    "# 로드된 숫자 이미지 9개만 화면에 표시해본다\n",
    "for i in range(9):\n",
    "    plt.subplot(330+1+i)\n",
    "    plt.imshow(x_train[i], cmap=plt.get_cmap('gray'))\n",
    "plt.show()"
   ]
  },
  {
   "cell_type": "code",
   "execution_count": 4,
   "id": "cf067bc9",
   "metadata": {},
   "outputs": [],
   "source": [
    "# Scale images to the [0, 1] range\n",
    "# 학습속도와 정확도를 향상시키기 위한 정규화(Normalization)\n",
    "x_train = x_train.astype(\"float32\") / 255\n",
    "x_test = x_test.astype(\"float32\") / 255"
   ]
  },
  {
   "cell_type": "code",
   "execution_count": 5,
   "id": "4c02158a",
   "metadata": {},
   "outputs": [
    {
     "name": "stdout",
     "output_type": "stream",
     "text": [
      "x_train shape: (60000, 28, 28, 1)\n",
      "60000 train samples\n",
      "10000 test samples\n"
     ]
    }
   ],
   "source": [
    "# Make sure images have shape (28, 28, 1)\n",
    "x_train = np.expand_dims(x_train, -1)\n",
    "x_test = np.expand_dims(x_test, -1)\n",
    "\n",
    "print(\"x_train shape:\", x_train.shape)   # (60000, 28, 28, 1)\n",
    "print(x_train.shape[0], \"train samples\")\n",
    "print(x_test.shape[0], \"test samples\")"
   ]
  },
  {
   "cell_type": "code",
   "execution_count": 6,
   "id": "74f1ae7c",
   "metadata": {},
   "outputs": [],
   "source": [
    "# convert class vectors to binary class matrices\n",
    "y_train = keras.utils.to_categorical(y_train, num_classes)\n",
    "y_test = keras.utils.to_categorical(y_test, num_classes)"
   ]
  },
  {
   "cell_type": "code",
   "execution_count": 7,
   "id": "d0c1f055",
   "metadata": {},
   "outputs": [],
   "source": [
    "model = keras.Sequential()\n",
    "model.add( Input(shape=input_shape))\n",
    "model.add( Conv2D(32, kernel_size=(3,3), activation='relu'))\n",
    "model.add( MaxPooling2D(pool_size=(2,2)))\n",
    "model.add( Conv2D(64, kernel_size=(3,3), activation='relu'))\n",
    "model.add( MaxPooling2D(pool_size=(2,2)))\n",
    "model.add( Flatten())\n",
    "model.add( Dropout(0.5))\n",
    "model.add( Dense(num_classes, activation='softmax'))"
   ]
  },
  {
   "cell_type": "code",
   "execution_count": 8,
   "id": "1680a862",
   "metadata": {},
   "outputs": [
    {
     "name": "stdout",
     "output_type": "stream",
     "text": [
      "Model: \"sequential\"\n",
      "_________________________________________________________________\n",
      " Layer (type)                Output Shape              Param #   \n",
      "=================================================================\n",
      " conv2d (Conv2D)             (None, 26, 26, 32)        320       \n",
      "                                                                 \n",
      " max_pooling2d (MaxPooling2D  (None, 13, 13, 32)       0         \n",
      " )                                                               \n",
      "                                                                 \n",
      " conv2d_1 (Conv2D)           (None, 11, 11, 64)        18496     \n",
      "                                                                 \n",
      " max_pooling2d_1 (MaxPooling  (None, 5, 5, 64)         0         \n",
      " 2D)                                                             \n",
      "                                                                 \n",
      " flatten (Flatten)           (None, 1600)              0         \n",
      "                                                                 \n",
      " dropout (Dropout)           (None, 1600)              0         \n",
      "                                                                 \n",
      " dense (Dense)               (None, 10)                16010     \n",
      "                                                                 \n",
      "=================================================================\n",
      "Total params: 34,826\n",
      "Trainable params: 34,826\n",
      "Non-trainable params: 0\n",
      "_________________________________________________________________\n"
     ]
    }
   ],
   "source": [
    "model.summary()"
   ]
  },
  {
   "cell_type": "code",
   "execution_count": 9,
   "id": "d3cdc5c1",
   "metadata": {},
   "outputs": [
    {
     "name": "stdout",
     "output_type": "stream",
     "text": [
      "Model: \"sequential_1\"\n",
      "_________________________________________________________________\n",
      " Layer (type)                Output Shape              Param #   \n",
      "=================================================================\n",
      " conv2d_2 (Conv2D)           (None, 26, 26, 32)        320       \n",
      "                                                                 \n",
      " max_pooling2d_2 (MaxPooling  (None, 13, 13, 32)       0         \n",
      " 2D)                                                             \n",
      "                                                                 \n",
      " conv2d_3 (Conv2D)           (None, 11, 11, 64)        18496     \n",
      "                                                                 \n",
      " max_pooling2d_3 (MaxPooling  (None, 5, 5, 64)         0         \n",
      " 2D)                                                             \n",
      "                                                                 \n",
      " flatten_1 (Flatten)         (None, 1600)              0         \n",
      "                                                                 \n",
      " dropout_1 (Dropout)         (None, 1600)              0         \n",
      "                                                                 \n",
      " dense_1 (Dense)             (None, 10)                16010     \n",
      "                                                                 \n",
      "=================================================================\n",
      "Total params: 34,826\n",
      "Trainable params: 34,826\n",
      "Non-trainable params: 0\n",
      "_________________________________________________________________\n"
     ]
    }
   ],
   "source": [
    "# add()사용하는 대신에 아래처럼 신경망을 구성할 수도 있다\n",
    "model = keras.Sequential(\n",
    "    [\n",
    "        keras.Input(shape=input_shape),\n",
    "        layers.Conv2D(32, kernel_size=(3, 3), activation=\"relu\"),\n",
    "        layers.MaxPooling2D(pool_size=(2, 2)),\n",
    "        layers.Conv2D(64, kernel_size=(3, 3), activation=\"relu\"),\n",
    "        layers.MaxPooling2D(pool_size=(2, 2)),\n",
    "        layers.Flatten(),\n",
    "        layers.Dropout(0.5),\n",
    "        layers.Dense(num_classes, activation=\"softmax\"),\n",
    "    ]\n",
    ")\n",
    "\n",
    "model.summary()"
   ]
  },
  {
   "cell_type": "code",
   "execution_count": 10,
   "id": "919a00b0",
   "metadata": {},
   "outputs": [],
   "source": [
    "batch_size = 128\n",
    "epochs = 15\n",
    "\n",
    "model.compile(loss=\"categorical_crossentropy\", optimizer=\"adam\", metrics=[\"accuracy\"])"
   ]
  },
  {
   "cell_type": "code",
   "execution_count": 11,
   "id": "9f9aa94f",
   "metadata": {},
   "outputs": [
    {
     "name": "stdout",
     "output_type": "stream",
     "text": [
      "Epoch 1/15\n",
      "422/422 [==============================] - 18s 41ms/step - loss: 0.3677 - accuracy: 0.8910 - val_loss: 0.0834 - val_accuracy: 0.9770\n",
      "Epoch 2/15\n",
      "422/422 [==============================] - 16s 39ms/step - loss: 0.1106 - accuracy: 0.9654 - val_loss: 0.0548 - val_accuracy: 0.9858\n",
      "Epoch 3/15\n",
      "422/422 [==============================] - 16s 38ms/step - loss: 0.0808 - accuracy: 0.9750 - val_loss: 0.0467 - val_accuracy: 0.9878\n",
      "Epoch 4/15\n",
      "422/422 [==============================] - 16s 38ms/step - loss: 0.0704 - accuracy: 0.9781 - val_loss: 0.0416 - val_accuracy: 0.9888\n",
      "Epoch 5/15\n",
      "422/422 [==============================] - 16s 39ms/step - loss: 0.0609 - accuracy: 0.9813 - val_loss: 0.0369 - val_accuracy: 0.9910\n",
      "Epoch 6/15\n",
      "422/422 [==============================] - 16s 39ms/step - loss: 0.0537 - accuracy: 0.9836 - val_loss: 0.0377 - val_accuracy: 0.9888\n",
      "Epoch 7/15\n",
      "422/422 [==============================] - 17s 39ms/step - loss: 0.0501 - accuracy: 0.9845 - val_loss: 0.0341 - val_accuracy: 0.9908\n",
      "Epoch 8/15\n",
      "422/422 [==============================] - 16s 38ms/step - loss: 0.0460 - accuracy: 0.9859 - val_loss: 0.0339 - val_accuracy: 0.9903\n",
      "Epoch 9/15\n",
      "422/422 [==============================] - 16s 39ms/step - loss: 0.0443 - accuracy: 0.9857 - val_loss: 0.0310 - val_accuracy: 0.9913\n",
      "Epoch 10/15\n",
      "422/422 [==============================] - 16s 38ms/step - loss: 0.0395 - accuracy: 0.9876 - val_loss: 0.0297 - val_accuracy: 0.9920\n",
      "Epoch 11/15\n",
      "422/422 [==============================] - 16s 39ms/step - loss: 0.0391 - accuracy: 0.9876 - val_loss: 0.0306 - val_accuracy: 0.9917\n",
      "Epoch 12/15\n",
      "422/422 [==============================] - 16s 38ms/step - loss: 0.0352 - accuracy: 0.9885 - val_loss: 0.0300 - val_accuracy: 0.9932\n",
      "Epoch 13/15\n",
      "422/422 [==============================] - 16s 38ms/step - loss: 0.0342 - accuracy: 0.9891 - val_loss: 0.0295 - val_accuracy: 0.9930\n",
      "Epoch 14/15\n",
      "422/422 [==============================] - 17s 39ms/step - loss: 0.0312 - accuracy: 0.9900 - val_loss: 0.0278 - val_accuracy: 0.9918\n",
      "Epoch 15/15\n",
      "422/422 [==============================] - 16s 38ms/step - loss: 0.0303 - accuracy: 0.9903 - val_loss: 0.0290 - val_accuracy: 0.9925\n"
     ]
    }
   ],
   "source": [
    "history = model.fit(x_train, y_train, batch_size=batch_size, epochs=epochs, validation_split=0.1)"
   ]
  },
  {
   "cell_type": "code",
   "execution_count": 12,
   "id": "ddd22c8d",
   "metadata": {},
   "outputs": [
    {
     "data": {
      "text/plain": [
       "dict_keys(['loss', 'accuracy', 'val_loss', 'val_accuracy'])"
      ]
     },
     "execution_count": 12,
     "metadata": {},
     "output_type": "execute_result"
    }
   ],
   "source": [
    "history.history.keys()"
   ]
  },
  {
   "cell_type": "code",
   "execution_count": 13,
   "id": "24bd026f",
   "metadata": {},
   "outputs": [],
   "source": [
    "acc = history.history['accuracy']\n",
    "val_acc = history.history['val_accuracy']"
   ]
  },
  {
   "cell_type": "code",
   "execution_count": 14,
   "id": "476adadc",
   "metadata": {},
   "outputs": [
    {
     "data": {
      "image/png": "[encoded data removed]",
      "text/plain": [
       "<Figure size 432x288 with 1 Axes>"
      ]
     },
     "metadata": {
      "needs_background": "light"
     },
     "output_type": "display_data"
    }
   ],
   "source": [
    "import matplotlib.pyplot as plt\n",
    "\n",
    "plt.plot(acc, label='accuracy')\n",
    "plt.plot(val_acc, label='val_accuracy')\n",
    "plt.legend()\n",
    "plt.xlabel('epochs')\n",
    "plt.ylabel('accuracy')\n",
    "plt.title('model accuracy')\n",
    "plt.show()"
   ]
  },
  {
   "cell_type": "code",
   "execution_count": 15,
   "id": "a07ce16d",
   "metadata": {},
   "outputs": [
    {
     "data": {
      "image/png": "[encoded data removed]",
      "text/plain": [
       "<Figure size 432x288 with 1 Axes>"
      ]
     },
     "metadata": {
      "needs_background": "light"
     },
     "output_type": "display_data"
    }
   ],
   "source": [
    "plt.plot(history.history['loss'], label='loss')\n",
    "plt.plot(history.history['val_loss'], label='val_loss')\n",
    "plt.legend()\n",
    "plt.show()"
   ]
  },
  {
   "cell_type": "code",
   "execution_count": 16,
   "id": "28a0a981",
   "metadata": {},
   "outputs": [
    {
     "data": {
      "text/plain": [
       "['loss', 'accuracy']"
      ]
     },
     "execution_count": 16,
     "metadata": {},
     "output_type": "execute_result"
    }
   ],
   "source": [
    "model.metrics_names"
   ]
  },
  {
   "cell_type": "code",
   "execution_count": 17,
   "id": "4167e4b1",
   "metadata": {},
   "outputs": [
    {
     "name": "stdout",
     "output_type": "stream",
     "text": [
      "Test loss: 0.021630510687828064\n",
      "Test accuracy: 0.9932000041007996\n"
     ]
    }
   ],
   "source": [
    "score = model.evaluate(x_test, y_test, verbose=0)\n",
    "print(\"Test loss:\", score[0])\n",
    "print(\"Test accuracy:\", score[1])"
   ]
  },
  {
   "cell_type": "code",
   "execution_count": 18,
   "id": "f9743c15",
   "metadata": {},
   "outputs": [
    {
     "name": "stdout",
     "output_type": "stream",
     "text": [
      "1/1 [==============================] - 0s 80ms/step\n"
     ]
    },
    {
     "data": {
      "text/plain": [
       "array([[6.1643712e-10, 1.5442845e-09, 9.4142479e-06, 2.7608296e-06,\n",
       "        4.2589821e-12, 1.2154419e-10, 1.2479177e-15, 9.9998736e-01,\n",
       "        7.8256246e-09, 4.3919721e-07]], dtype=float32)"
      ]
     },
     "execution_count": 18,
     "metadata": {},
     "output_type": "execute_result"
    }
   ],
   "source": [
    "x_test.shape   # (10000, 28, 28, 1)\n",
    "model.predict(x_test[0].reshape(-1,28,28,1))   # 4차원 구조로 변경"
   ]
  },
  {
   "cell_type": "code",
   "execution_count": 19,
   "id": "ac49d8bd",
   "metadata": {},
   "outputs": [
    {
     "data": {
      "image/png": "[encoded data removed]",
      "text/plain": [
       "<Figure size 432x288 with 1 Axes>"
      ]
     },
     "metadata": {
      "needs_background": "light"
     },
     "output_type": "display_data"
    }
   ],
   "source": [
    "import matplotlib.pyplot as plt\n",
    "\n",
    "# 픽셀데이터를 2차원 구조로 변경하여 화면에 표시\n",
    "plt.imshow(x_test[0].reshape(-1,28), cmap=plt.get_cmap('gray'))\n",
    "plt.show()"
   ]
  },
  {
   "cell_type": "code",
   "execution_count": null,
   "id": "df955d5b",
   "metadata": {},
   "outputs": [],
   "source": []
  },
  {
   "cell_type": "code",
   "execution_count": null,
   "id": "f06f96df-8167-467c-a21d-5e364f97206e",
   "metadata": {},
   "outputs": [],
   "source": []
  }
 ],
 "metadata": {
  "kernelspec": {
   "display_name": "Python 3 (ipykernel)",
   "language": "python",
   "name": "python3"
  },
  "language_info": {
   "codemirror_mode": {
    "name": "ipython",
    "version": 3
   },
   "file_extension": ".py",
   "mimetype": "text/x-python",
   "name": "python",
   "nbconvert_exporter": "python",
   "pygments_lexer": "ipython3",
   "version": "3.9.12"
  }
 },
 "nbformat": 4,
 "nbformat_minor": 5
}
