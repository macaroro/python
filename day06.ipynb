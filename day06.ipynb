{
 "cells": [
  {
   "cell_type": "code",
   "execution_count": null,
   "id": "5b3bb812-5432-4c0c-a2a0-e9d37f40d307",
   "metadata": {},
   "outputs": [],
   "source": [
    "#Thread\n",
    "import threading\n",
    "import time\n",
    "from datetime import datetime"
   ]
  },
  {
   "cell_type": "code",
   "execution_count": null,
   "id": "a2e57ba5-170c-45a2-a82c-17d6eb269323",
   "metadata": {},
   "outputs": [],
   "source": [
    "mt=threading.current_thread()\n",
    "mt.name\n",
    "mt.getName()"
   ]
  },
  {
   "cell_type": "code",
   "execution_count": null,
   "id": "25967476-4bdf-4a42-b97c-fb87378e9a8a",
   "metadata": {},
   "outputs": [],
   "source": [
    "def t1():\n",
    "    num=0\n",
    "    for _ in range(100):\n",
    "        num +=1\n",
    "        print('{}-{}'.format(threading.current_thread().name,num))\n",
    "        time.sleep(1)\n",
    "        \n",
    "def t2():\n",
    "    num=0\n",
    "    for _ in range(100):\n",
    "        dt=datetime.now()\n",
    "        print('{}-{}'.format(threading.current_thread().name,dt))\n",
    "        time.sleep(1)       "
   ]
  },
  {
   "cell_type": "code",
   "execution_count": null,
   "id": "89ee5b83-cb55-4408-97ea-2168f1fc0f1f",
   "metadata": {},
   "outputs": [],
   "source": [
    "t_name = threading.current_thread().name\n",
    "print(t_name+'시작')\n",
    "\n",
    "thread1 = threading.Thread(target=t1)\n",
    "thread2 = threading.Thread(target=t2)\n",
    "\n",
    "thread1.setName('tl')\n",
    "thread2.setName('t2')\n",
    "\n",
    "thread1.start()\n",
    "thread2.start()\n",
    "\n",
    "print(t_name+' 종료')"
   ]
  },
  {
   "cell_type": "markdown",
   "id": "04661831-5245-4c84-903a-6bffe905c256",
   "metadata": {},
   "source": [
    "## 다양한 Thread 생성\n",
    "* 클래스의 멤버가 아닌 함수를 스레드의 코드로 실행\n",
    "* 클래스의 멤버 함수(인스턴스 메소드)를 스레드의 코드로 실행\n",
    "* 클래스 작성 시 Thread를 상속항 스레드 생성"
   ]
  },
  {
   "cell_type": "code",
   "execution_count": null,
   "id": "d50ca909-a555-47c3-bfdc-474c3d592105",
   "metadata": {},
   "outputs": [],
   "source": [
    "import threading\n",
    "import time\n",
    "from datetime import datetime\n",
    "\n",
    "\n",
    "class MyGame(threading.Thread):\n",
    "    def __init__(self,name):\n",
    "        threading.Thread.__init__(self)\n",
    "        print(f'{name} 쓰레드 생성')\n",
    "        self.setName(name)\n",
    "        self.daemon = True\n",
    "        \n",
    "    def run(self):\n",
    "        \n",
    "        num=0\n",
    "        for _ in range(100):\n",
    "            num +=1\n",
    "            print(f'{self.name}-{num}')\n",
    "            time.sleep(1)"
   ]
  },
  {
   "cell_type": "code",
   "execution_count": null,
   "id": "4c41ead2-600e-45db-84f7-1e8edec5db2a",
   "metadata": {},
   "outputs": [],
   "source": [
    "my_thread=MyGame('game')\n",
    "my_thread.start()\n",
    "\n",
    "for _ in range(10):\n",
    "    print('{}-{}'.format(threading.current_thread().name,datetime.now()))\n",
    "    time.sleep(1)"
   ]
  },
  {
   "cell_type": "markdown",
   "id": "c3a5de5f-18fc-474d-914a-2cc8a4d91a91",
   "metadata": {},
   "source": [
    "# Scoket"
   ]
  },
  {
   "cell_type": "code",
   "execution_count": null,
   "id": "df9b3622-1ddf-46b8-b065-ddfd43dc10b6",
   "metadata": {},
   "outputs": [],
   "source": [
    "from socket import *\n",
    "import time\n",
    "import threading\n",
    "\n",
    "serverSock= socket(AF_INET, SOCK_STREAM)\n",
    "serverSock.bind(('',1234)) #port 지정\n",
    "serverSock.listen(1) \n",
    "\n",
    "print('서버 소켓 대기중')\n",
    "soc,addr=serverSock.accept()#클라이언트가 받아들여야 실행\n",
    "print(f'{addr} 접속됨')\n",
    "\n",
    "soc.send('접속 성공입니다'.encode('utf-8'))\n",
    "msg=soc.recv(1024)\n",
    "msg=msg.decode('utf-8')\n",
    "print('로그인 메세지' , msg)\n",
    "uid,upw = msg.split()\n",
    "\n",
    "\n",
    "if uid is not None and upw is not None:\n",
    "    soc.send('로그인 성공'.encode('utf-8'))\n",
    "    \n",
    "    \n",
    "else:\n",
    "    soc.send('로그인 실패'.encode('utf-8'))\n",
    "time.sleep(1)\n",
    "\n",
    "print('서버 종료')"
   ]
  },
  {
   "cell_type": "code",
   "execution_count": null,
   "id": "3dae8f7f-4a08-47da-82e0-205cd40e5c40",
   "metadata": {},
   "outputs": [
    {
     "name": "stdout",
     "output_type": "stream",
     "text": [
      "서버 대기....\n",
      "('127.0.0.1', 59237) 접속됨\n",
      "서버 대기....\n"
     ]
    }
   ],
   "source": [
    "from socket import *\n",
    "import time\n",
    "import threading\n",
    "\n",
    "sock_dict={}\n",
    "\n",
    "serverSock = socket(AF_INET, SOCK_STREAM)\n",
    "serverSock.bind(('localhost',1234))\n",
    "serverSock.listen(1)\n",
    "\n",
    "while True:\n",
    "    print('서버 대기....')\n",
    "    soc,addr = serverSock.accept()\n",
    "    print(f'{addr} 접속됨')\n",
    "    soc.send('접속 성공'.encode('utf-8'))"
   ]
  },
  {
   "cell_type": "code",
   "execution_count": null,
   "id": "fdf144d6-383f-4ee5-a1fc-42da4c45f658",
   "metadata": {},
   "outputs": [],
   "source": [
    "def recv_message(sock):\n",
    "    while True:\n",
    "        msg = sock.recv(1024)\n",
    "        print(msg.decode())\n",
    "        \n",
    "th = Thread(target=recv_message, args=(sock, ))\n",
    "th.daemon = True\n",
    "th.start()\n",
    "\n",
    "while True:\n",
    "    msg = input(\"입력 >\")\n",
    "    sock.send(msg.encode())\n",
    "\n",
    "    if msg == \"/by\":\n",
    "        break\n"
   ]
  },
  {
   "cell_type": "code",
   "execution_count": null,
   "id": "f3182ad1-820b-4c74-be88-68ce4c3af7f9",
   "metadata": {},
   "outputs": [],
   "source": []
  }
 ],
 "metadata": {
  "kernelspec": {
   "display_name": "Python 3 (ipykernel)",
   "language": "python",
   "name": "python3"
  },
  "language_info": {
   "codemirror_mode": {
    "name": "ipython",
    "version": 3
   },
   "file_extension": ".py",
   "mimetype": "text/x-python",
   "name": "python",
   "nbconvert_exporter": "python",
   "pygments_lexer": "ipython3",
   "version": "3.9.12"
  }
 },
 "nbformat": 4,
 "nbformat_minor": 5
}
