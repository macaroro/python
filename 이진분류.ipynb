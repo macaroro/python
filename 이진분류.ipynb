{
 "cells": [
  {
   "cell_type": "markdown",
   "id": "8986980a-657a-440d-b9ac-a8cd7f34ef00",
   "metadata": {},
   "source": [
    "## 신경망을 사용한 이진분류"
   ]
  },
  {
   "cell_type": "code",
   "execution_count": 3,
   "id": "f42dddde-df8c-434c-a393-fef9ef568dd9",
   "metadata": {},
   "outputs": [],
   "source": [
    "import numpy as np\n",
    "import tensorflow as tf\n",
    "from tensorflow.keras.layers import Dense\n",
    "from tensorflow.keras.models import Sequential\n",
    "from sklearn.datasets import make_blobs\n",
    "from sklearn.model_selection import train_test_split\n",
    "import matplotlib.pyplot as plt"
   ]
  },
  {
   "cell_type": "code",
   "execution_count": 6,
   "id": "daf88a6a-2777-410b-ac64-a04a7d21324e",
   "metadata": {},
   "outputs": [],
   "source": [
    "X,y=make_blobs(n_samples=500,n_features=2,centers=2,random_state=1)#샘플의 수, 변수의 수"
   ]
  },
  {
   "cell_type": "code",
   "execution_count": 7,
   "id": "a2ddf37d-0770-4337-8431-e1c324291905",
   "metadata": {},
   "outputs": [
    {
     "data": {
      "text/plain": [
       "((500, 2), (500,))"
      ]
     },
     "execution_count": 7,
     "metadata": {},
     "output_type": "execute_result"
    }
   ],
   "source": [
    "X.shape, y.shape"
   ]
  },
  {
   "cell_type": "code",
   "execution_count": 10,
   "id": "e99d4abe-ae01-4148-bd3d-1a9ff797d99a",
   "metadata": {},
   "outputs": [
    {
     "data": {
      "image/png": "[encoded data removed]",
      "text/plain": [
       "<Figure size 432x288 with 1 Axes>"
      ]
     },
     "metadata": {
      "needs_background": "light"
     },
     "output_type": "display_data"
    }
   ],
   "source": [
    "plt.scatter(X[:,0],X[:,1],c=y,s=5)\n",
    "plt.show()"
   ]
  },
  {
   "cell_type": "code",
   "execution_count": 12,
   "id": "d5c298e6-b36d-4f4f-bb6f-4d0c5eb6f909",
   "metadata": {},
   "outputs": [],
   "source": [
    "X_train,X_test,y_train,y_test=train_test_split(X,y, test_size=0.2,random_state=1)"
   ]
  },
  {
   "cell_type": "code",
   "execution_count": 13,
   "id": "49f9e496-b0c5-405d-bcb3-ff24693d39dd",
   "metadata": {},
   "outputs": [
    {
     "data": {
      "text/plain": [
       "(400, 2)"
      ]
     },
     "execution_count": 13,
     "metadata": {},
     "output_type": "execute_result"
    }
   ],
   "source": [
    "X_train.shape"
   ]
  },
  {
   "cell_type": "code",
   "execution_count": 14,
   "id": "4e806541-27f6-4d8f-836e-6a1c719093b5",
   "metadata": {},
   "outputs": [],
   "source": [
    "model=Sequential()"
   ]
  },
  {
   "cell_type": "code",
   "execution_count": 19,
   "id": "48a93700-6051-498f-80fe-6e157627ca7f",
   "metadata": {},
   "outputs": [],
   "source": [
    "model.add(Dense(32,input_shape=(2,),activation='relu'))\n",
    "model.add(Dense(16,activation='relu'))\n",
    "model.add(Dense(8,activation='relu'))\n",
    "model.add(Dense(4,activation='relu'))\n",
    "model.add(Dense(2,activation='relu'))\n",
    "model.add(Dense(1,activation='sigmoid'))"
   ]
  },
  {
   "cell_type": "code",
   "execution_count": 20,
   "id": "eea3363f-8d52-43b8-8f79-edd5ec6ccb32",
   "metadata": {},
   "outputs": [],
   "source": [
    "model.compile(loss='binary_crossentropy')"
   ]
  },
  {
   "cell_type": "code",
   "execution_count": 21,
   "id": "49576c23-d667-44df-afe5-dd1359cafbdc",
   "metadata": {},
   "outputs": [
    {
     "name": "stdout",
     "output_type": "stream",
     "text": [
      "Model: \"sequential\"\n",
      "_________________________________________________________________\n",
      " Layer (type)                Output Shape              Param #   \n",
      "=================================================================\n",
      " dense (Dense)               (None, 32)                96        \n",
      "                                                                 \n",
      " dense_1 (Dense)             (None, 32)                1056      \n",
      "                                                                 \n",
      " dense_2 (Dense)             (None, 32)                1056      \n",
      "                                                                 \n",
      " dense_3 (Dense)             (None, 32)                1056      \n",
      "                                                                 \n",
      " dense_4 (Dense)             (None, 32)                1056      \n",
      "                                                                 \n",
      " dense_5 (Dense)             (None, 32)                1056      \n",
      "                                                                 \n",
      " dense_6 (Dense)             (None, 32)                1056      \n",
      "                                                                 \n",
      " dense_7 (Dense)             (None, 16)                528       \n",
      "                                                                 \n",
      " dense_8 (Dense)             (None, 8)                 136       \n",
      "                                                                 \n",
      " dense_9 (Dense)             (None, 32)                288       \n",
      "                                                                 \n",
      " dense_10 (Dense)            (None, 16)                528       \n",
      "                                                                 \n",
      " dense_11 (Dense)            (None, 8)                 136       \n",
      "                                                                 \n",
      " dense_12 (Dense)            (None, 4)                 36        \n",
      "                                                                 \n",
      " dense_13 (Dense)            (None, 2)                 10        \n",
      "                                                                 \n",
      " dense_14 (Dense)            (None, 1)                 3         \n",
      "                                                                 \n",
      "=================================================================\n",
      "Total params: 8,097\n",
      "Trainable params: 8,097\n",
      "Non-trainable params: 0\n",
      "_________________________________________________________________\n"
     ]
    }
   ],
   "source": [
    "model.summary()"
   ]
  },
  {
   "cell_type": "code",
   "execution_count": 23,
   "id": "52bb5940-507e-4729-9131-bd3df05a7fa9",
   "metadata": {},
   "outputs": [
    {
     "name": "stdout",
     "output_type": "stream",
     "text": [
      "Epoch 1/200\n",
      "10/10 [==============================] - 1s 58ms/step - loss: 1.9612e-11 - val_loss: 4.2357e-12\n",
      "Epoch 2/200\n",
      "10/10 [==============================] - 0s 8ms/step - loss: 2.0095e-11 - val_loss: 4.2308e-12\n",
      "Epoch 3/200\n",
      "10/10 [==============================] - 0s 8ms/step - loss: 2.0156e-11 - val_loss: 4.2287e-12\n",
      "Epoch 4/200\n",
      "10/10 [==============================] - 0s 8ms/step - loss: 2.0968e-11 - val_loss: 4.2294e-12\n",
      "Epoch 5/200\n",
      "10/10 [==============================] - 0s 9ms/step - loss: 2.1570e-11 - val_loss: 4.2329e-12\n",
      "Epoch 6/200\n",
      "10/10 [==============================] - 0s 9ms/step - loss: 2.1684e-11 - val_loss: 4.2392e-12\n",
      "Epoch 7/200\n",
      "10/10 [==============================] - 0s 8ms/step - loss: 2.2188e-11 - val_loss: 4.2486e-12\n",
      "Epoch 8/200\n",
      "10/10 [==============================] - 0s 8ms/step - loss: 2.3236e-11 - val_loss: 4.2610e-12\n",
      "Epoch 9/200\n",
      "10/10 [==============================] - 0s 8ms/step - loss: 2.3940e-11 - val_loss: 4.2765e-12\n",
      "Epoch 10/200\n",
      "10/10 [==============================] - 0s 8ms/step - loss: 2.4152e-11 - val_loss: 4.2952e-12\n",
      "Epoch 11/200\n",
      "10/10 [==============================] - 0s 8ms/step - loss: 2.5152e-11 - val_loss: 4.3172e-12\n",
      "Epoch 12/200\n",
      "10/10 [==============================] - 0s 8ms/step - loss: 2.6156e-11 - val_loss: 4.3427e-12\n",
      "Epoch 13/200\n",
      "10/10 [==============================] - 0s 10ms/step - loss: 2.6485e-11 - val_loss: 4.3716e-12\n",
      "Epoch 14/200\n",
      "10/10 [==============================] - 0s 9ms/step - loss: 2.6958e-11 - val_loss: 4.4042e-12\n",
      "Epoch 15/200\n",
      "10/10 [==============================] - 0s 9ms/step - loss: 2.8475e-11 - val_loss: 4.4404e-12\n",
      "Epoch 16/200\n",
      "10/10 [==============================] - 0s 10ms/step - loss: 2.9363e-11 - val_loss: 4.4804e-12\n",
      "Epoch 17/200\n",
      "10/10 [==============================] - 0s 8ms/step - loss: 2.9613e-11 - val_loss: 4.5245e-12\n",
      "Epoch 18/200\n",
      "10/10 [==============================] - 0s 9ms/step - loss: 3.0623e-11 - val_loss: 4.5725e-12\n",
      "Epoch 19/200\n",
      "10/10 [==============================] - 0s 10ms/step - loss: 3.1808e-11 - val_loss: 4.6247e-12\n",
      "Epoch 20/200\n",
      "10/10 [==============================] - 0s 9ms/step - loss: 3.3146e-11 - val_loss: 4.6811e-12\n",
      "Epoch 21/200\n",
      "10/10 [==============================] - 0s 9ms/step - loss: 3.3683e-11 - val_loss: 4.7421e-12\n",
      "Epoch 22/200\n",
      "10/10 [==============================] - 0s 9ms/step - loss: 3.5411e-11 - val_loss: 4.8077e-12\n",
      "Epoch 23/200\n",
      "10/10 [==============================] - 0s 9ms/step - loss: 3.6223e-11 - val_loss: 4.8779e-12\n",
      "Epoch 24/200\n",
      "10/10 [==============================] - 0s 9ms/step - loss: 3.7088e-11 - val_loss: 4.9530e-12\n",
      "Epoch 25/200\n",
      "10/10 [==============================] - 0s 10ms/step - loss: 3.8424e-11 - val_loss: 5.0331e-12\n",
      "Epoch 26/200\n",
      "10/10 [==============================] - 0s 9ms/step - loss: 3.9525e-11 - val_loss: 5.1183e-12\n",
      "Epoch 27/200\n",
      "10/10 [==============================] - 0s 8ms/step - loss: 4.0497e-11 - val_loss: 5.2089e-12\n",
      "Epoch 28/200\n",
      "10/10 [==============================] - 0s 9ms/step - loss: 4.1958e-11 - val_loss: 5.3050e-12\n",
      "Epoch 29/200\n",
      "10/10 [==============================] - 0s 9ms/step - loss: 4.4476e-11 - val_loss: 5.4066e-12\n",
      "Epoch 30/200\n",
      "10/10 [==============================] - 0s 10ms/step - loss: 4.5920e-11 - val_loss: 5.5142e-12\n",
      "Epoch 31/200\n",
      "10/10 [==============================] - 0s 8ms/step - loss: 4.6047e-11 - val_loss: 5.6280e-12\n",
      "Epoch 32/200\n",
      "10/10 [==============================] - 0s 9ms/step - loss: 4.8022e-11 - val_loss: 5.7479e-12\n",
      "Epoch 33/200\n",
      "10/10 [==============================] - 0s 8ms/step - loss: 4.9668e-11 - val_loss: 5.8744e-12\n",
      "Epoch 34/200\n",
      "10/10 [==============================] - 0s 8ms/step - loss: 5.1718e-11 - val_loss: 6.0074e-12\n",
      "Epoch 35/200\n",
      "10/10 [==============================] - 0s 9ms/step - loss: 5.4068e-11 - val_loss: 6.1471e-12\n",
      "Epoch 36/200\n",
      "10/10 [==============================] - 0s 10ms/step - loss: 5.4490e-11 - val_loss: 6.2939e-12\n",
      "Epoch 37/200\n",
      "10/10 [==============================] - 0s 9ms/step - loss: 5.6875e-11 - val_loss: 6.4479e-12\n",
      "Epoch 38/200\n",
      "10/10 [==============================] - 0s 8ms/step - loss: 5.8132e-11 - val_loss: 6.6094e-12\n",
      "Epoch 39/200\n",
      "10/10 [==============================] - 0s 8ms/step - loss: 6.0125e-11 - val_loss: 6.7786e-12\n",
      "Epoch 40/200\n",
      "10/10 [==============================] - 0s 10ms/step - loss: 6.2120e-11 - val_loss: 6.9556e-12\n",
      "Epoch 41/200\n",
      "10/10 [==============================] - 0s 12ms/step - loss: 6.5764e-11 - val_loss: 7.1409e-12\n",
      "Epoch 42/200\n",
      "10/10 [==============================] - 0s 8ms/step - loss: 6.7638e-11 - val_loss: 7.3350e-12\n",
      "Epoch 43/200\n",
      "10/10 [==============================] - 0s 9ms/step - loss: 6.8407e-11 - val_loss: 7.5376e-12\n",
      "Epoch 44/200\n",
      "10/10 [==============================] - 0s 10ms/step - loss: 7.1791e-11 - val_loss: 7.7490e-12\n",
      "Epoch 45/200\n",
      "10/10 [==============================] - 0s 8ms/step - loss: 7.2933e-11 - val_loss: 7.9700e-12\n",
      "Epoch 46/200\n",
      "10/10 [==============================] - 0s 8ms/step - loss: 7.7511e-11 - val_loss: 8.2000e-12\n",
      "Epoch 47/200\n",
      "10/10 [==============================] - 0s 10ms/step - loss: 7.9862e-11 - val_loss: 8.4401e-12\n",
      "Epoch 48/200\n",
      "10/10 [==============================] - 0s 9ms/step - loss: 8.0602e-11 - val_loss: 8.6903e-12\n",
      "Epoch 49/200\n",
      "10/10 [==============================] - 0s 9ms/step - loss: 8.5454e-11 - val_loss: 8.9508e-12\n",
      "Epoch 50/200\n",
      "10/10 [==============================] - 0s 9ms/step - loss: 8.8148e-11 - val_loss: 9.2220e-12\n",
      "Epoch 51/200\n",
      "10/10 [==============================] - 0s 9ms/step - loss: 9.0394e-11 - val_loss: 9.5043e-12\n",
      "Epoch 52/200\n",
      "10/10 [==============================] - 0s 9ms/step - loss: 9.1496e-11 - val_loss: 9.7986e-12\n",
      "Epoch 53/200\n",
      "10/10 [==============================] - 0s 7ms/step - loss: 9.6568e-11 - val_loss: 1.0104e-11\n",
      "Epoch 54/200\n",
      "10/10 [==============================] - 0s 8ms/step - loss: 9.7652e-11 - val_loss: 1.0421e-11\n",
      "Epoch 55/200\n",
      "10/10 [==============================] - 0s 7ms/step - loss: 1.0080e-10 - val_loss: 1.0751e-11\n",
      "Epoch 56/200\n",
      "10/10 [==============================] - 0s 7ms/step - loss: 1.0472e-10 - val_loss: 1.1094e-11\n",
      "Epoch 57/200\n",
      "10/10 [==============================] - 0s 8ms/step - loss: 1.0968e-10 - val_loss: 1.1449e-11\n",
      "Epoch 58/200\n",
      "10/10 [==============================] - 0s 7ms/step - loss: 1.1380e-10 - val_loss: 1.1818e-11\n",
      "Epoch 59/200\n",
      "10/10 [==============================] - 0s 7ms/step - loss: 1.1494e-10 - val_loss: 1.2201e-11\n",
      "Epoch 60/200\n",
      "10/10 [==============================] - 0s 7ms/step - loss: 1.1965e-10 - val_loss: 1.2598e-11\n",
      "Epoch 61/200\n",
      "10/10 [==============================] - 0s 7ms/step - loss: 1.2347e-10 - val_loss: 1.3009e-11\n",
      "Epoch 62/200\n",
      "10/10 [==============================] - 0s 7ms/step - loss: 1.2857e-10 - val_loss: 1.3435e-11\n",
      "Epoch 63/200\n",
      "10/10 [==============================] - 0s 7ms/step - loss: 1.3006e-10 - val_loss: 1.3877e-11\n",
      "Epoch 64/200\n",
      "10/10 [==============================] - 0s 7ms/step - loss: 1.3652e-10 - val_loss: 1.4334e-11\n",
      "Epoch 65/200\n",
      "10/10 [==============================] - 0s 7ms/step - loss: 1.4039e-10 - val_loss: 1.4808e-11\n",
      "Epoch 66/200\n",
      "10/10 [==============================] - 0s 7ms/step - loss: 1.4276e-10 - val_loss: 1.5298e-11\n",
      "Epoch 67/200\n",
      "10/10 [==============================] - 0s 10ms/step - loss: 1.4698e-10 - val_loss: 1.5806e-11\n",
      "Epoch 68/200\n",
      "10/10 [==============================] - 0s 7ms/step - loss: 1.5419e-10 - val_loss: 1.6331e-11\n",
      "Epoch 69/200\n",
      "10/10 [==============================] - 0s 8ms/step - loss: 1.5989e-10 - val_loss: 1.6873e-11\n",
      "Epoch 70/200\n",
      "10/10 [==============================] - 0s 7ms/step - loss: 1.6117e-10 - val_loss: 1.7435e-11\n",
      "Epoch 71/200\n",
      "10/10 [==============================] - 0s 7ms/step - loss: 1.6754e-10 - val_loss: 1.8016e-11\n",
      "Epoch 72/200\n",
      "10/10 [==============================] - 0s 6ms/step - loss: 1.7081e-10 - val_loss: 1.8615e-11\n",
      "Epoch 73/200\n",
      "10/10 [==============================] - 0s 7ms/step - loss: 1.7645e-10 - val_loss: 1.9236e-11\n",
      "Epoch 74/200\n",
      "10/10 [==============================] - 0s 7ms/step - loss: 1.8540e-10 - val_loss: 1.9877e-11\n",
      "Epoch 75/200\n",
      "10/10 [==============================] - 0s 6ms/step - loss: 1.9089e-10 - val_loss: 2.0539e-11\n",
      "Epoch 76/200\n",
      "10/10 [==============================] - 0s 7ms/step - loss: 1.9543e-10 - val_loss: 2.1224e-11\n",
      "Epoch 77/200\n",
      "10/10 [==============================] - 0s 7ms/step - loss: 1.9969e-10 - val_loss: 2.1930e-11\n",
      "Epoch 78/200\n",
      "10/10 [==============================] - 0s 7ms/step - loss: 2.0744e-10 - val_loss: 2.2660e-11\n",
      "Epoch 79/200\n",
      "10/10 [==============================] - 0s 7ms/step - loss: 2.0945e-10 - val_loss: 2.3414e-11\n",
      "Epoch 80/200\n",
      "10/10 [==============================] - 0s 7ms/step - loss: 2.2022e-10 - val_loss: 3.2490e-12\n",
      "Epoch 81/200\n",
      "10/10 [==============================] - 0s 7ms/step - loss: 7.9577e-12 - val_loss: 3.2252e-12\n",
      "Epoch 82/200\n",
      "10/10 [==============================] - 0s 7ms/step - loss: 7.9094e-12 - val_loss: 3.1991e-12\n",
      "Epoch 83/200\n",
      "10/10 [==============================] - 0s 6ms/step - loss: 7.8576e-12 - val_loss: 3.1719e-12\n",
      "Epoch 84/200\n",
      "10/10 [==============================] - 0s 7ms/step - loss: 7.8106e-12 - val_loss: 3.1450e-12\n",
      "Epoch 85/200\n",
      "10/10 [==============================] - 0s 8ms/step - loss: 7.7499e-12 - val_loss: 3.1158e-12\n",
      "Epoch 86/200\n",
      "10/10 [==============================] - 0s 7ms/step - loss: 7.6950e-12 - val_loss: 3.0871e-12\n",
      "Epoch 87/200\n",
      "10/10 [==============================] - 0s 7ms/step - loss: 7.6423e-12 - val_loss: 3.0586e-12\n",
      "Epoch 88/200\n",
      "10/10 [==============================] - 0s 7ms/step - loss: 7.5869e-12 - val_loss: 3.0303e-12\n",
      "Epoch 89/200\n",
      "10/10 [==============================] - 0s 7ms/step - loss: 7.5321e-12 - val_loss: 3.0023e-12\n",
      "Epoch 90/200\n",
      "10/10 [==============================] - 0s 7ms/step - loss: 7.4817e-12 - val_loss: 2.9739e-12\n",
      "Epoch 91/200\n",
      "10/10 [==============================] - 0s 7ms/step - loss: 7.4287e-12 - val_loss: 2.9467e-12\n",
      "Epoch 92/200\n",
      "10/10 [==============================] - 0s 7ms/step - loss: 7.3682e-12 - val_loss: 2.9198e-12\n",
      "Epoch 93/200\n",
      "10/10 [==============================] - 0s 7ms/step - loss: 7.3203e-12 - val_loss: 2.8935e-12\n",
      "Epoch 94/200\n",
      "10/10 [==============================] - 0s 7ms/step - loss: 7.2666e-12 - val_loss: 2.8676e-12\n",
      "Epoch 95/200\n",
      "10/10 [==============================] - 0s 11ms/step - loss: 7.2214e-12 - val_loss: 2.8414e-12\n",
      "Epoch 96/200\n",
      "10/10 [==============================] - 0s 7ms/step - loss: 7.1686e-12 - val_loss: 2.8163e-12\n",
      "Epoch 97/200\n",
      "10/10 [==============================] - 0s 6ms/step - loss: 7.1216e-12 - val_loss: 2.7916e-12\n",
      "Epoch 98/200\n",
      "10/10 [==============================] - 0s 7ms/step - loss: 7.0749e-12 - val_loss: 2.7673e-12\n",
      "Epoch 99/200\n",
      "10/10 [==============================] - 0s 7ms/step - loss: 7.0301e-12 - val_loss: 2.7434e-12\n",
      "Epoch 100/200\n",
      "10/10 [==============================] - 0s 7ms/step - loss: 6.9918e-12 - val_loss: 2.7193e-12\n",
      "Epoch 101/200\n",
      "10/10 [==============================] - 0s 6ms/step - loss: 6.9479e-12 - val_loss: 2.6962e-12\n",
      "Epoch 102/200\n",
      "10/10 [==============================] - 0s 8ms/step - loss: 6.9051e-12 - val_loss: 2.6734e-12\n",
      "Epoch 103/200\n",
      "10/10 [==============================] - 0s 8ms/step - loss: 6.8592e-12 - val_loss: 2.6510e-12\n",
      "Epoch 104/200\n",
      "10/10 [==============================] - 0s 7ms/step - loss: 6.8213e-12 - val_loss: 2.6284e-12\n",
      "Epoch 105/200\n",
      "10/10 [==============================] - 0s 7ms/step - loss: 6.7843e-12 - val_loss: 2.6067e-12\n",
      "Epoch 106/200\n",
      "10/10 [==============================] - 0s 7ms/step - loss: 6.7475e-12 - val_loss: 2.5854e-12\n",
      "Epoch 107/200\n",
      "10/10 [==============================] - 0s 7ms/step - loss: 6.7091e-12 - val_loss: 2.5644e-12\n",
      "Epoch 108/200\n",
      "10/10 [==============================] - 0s 7ms/step - loss: 6.6752e-12 - val_loss: 2.5437e-12\n",
      "Epoch 109/200\n",
      "10/10 [==============================] - 0s 7ms/step - loss: 6.6316e-12 - val_loss: 2.5227e-12\n",
      "Epoch 110/200\n",
      "10/10 [==============================] - 0s 6ms/step - loss: 6.6005e-12 - val_loss: 2.5026e-12\n",
      "Epoch 111/200\n",
      "10/10 [==============================] - 0s 6ms/step - loss: 6.5696e-12 - val_loss: 2.4829e-12\n",
      "Epoch 112/200\n",
      "10/10 [==============================] - 0s 7ms/step - loss: 6.5270e-12 - val_loss: 2.4634e-12\n",
      "Epoch 113/200\n",
      "10/10 [==============================] - 0s 7ms/step - loss: 6.4977e-12 - val_loss: 2.4442e-12\n",
      "Epoch 114/200\n",
      "10/10 [==============================] - 0s 7ms/step - loss: 6.4740e-12 - val_loss: 2.4248e-12\n",
      "Epoch 115/200\n",
      "10/10 [==============================] - 0s 10ms/step - loss: 6.4427e-12 - val_loss: 2.4062e-12\n",
      "Epoch 116/200\n",
      "10/10 [==============================] - 0s 8ms/step - loss: 6.4065e-12 - val_loss: 2.3879e-12\n",
      "Epoch 117/200\n",
      "10/10 [==============================] - 0s 8ms/step - loss: 6.3757e-12 - val_loss: 2.3698e-12\n",
      "Epoch 118/200\n",
      "10/10 [==============================] - 0s 8ms/step - loss: 6.3603e-12 - val_loss: 2.3520e-12\n",
      "Epoch 119/200\n",
      "10/10 [==============================] - 0s 7ms/step - loss: 6.3220e-12 - val_loss: 2.3341e-12\n",
      "Epoch 120/200\n",
      "10/10 [==============================] - 0s 7ms/step - loss: 6.3052e-12 - val_loss: 2.3168e-12\n",
      "Epoch 121/200\n",
      "10/10 [==============================] - 0s 8ms/step - loss: 6.2721e-12 - val_loss: 2.2998e-12\n",
      "Epoch 122/200\n",
      "10/10 [==============================] - 0s 8ms/step - loss: 6.2594e-12 - val_loss: 2.2830e-12\n",
      "Epoch 123/200\n",
      "10/10 [==============================] - 0s 8ms/step - loss: 6.2362e-12 - val_loss: 2.2660e-12\n",
      "Epoch 124/200\n",
      "10/10 [==============================] - 0s 7ms/step - loss: 6.2045e-12 - val_loss: 2.2498e-12\n",
      "Epoch 125/200\n",
      "10/10 [==============================] - 0s 7ms/step - loss: 6.1937e-12 - val_loss: 2.2338e-12\n",
      "Epoch 126/200\n",
      "10/10 [==============================] - 0s 8ms/step - loss: 6.1699e-12 - val_loss: 2.2180e-12\n",
      "Epoch 127/200\n",
      "10/10 [==============================] - 0s 8ms/step - loss: 6.1416e-12 - val_loss: 2.2024e-12\n",
      "Epoch 128/200\n",
      "10/10 [==============================] - 0s 8ms/step - loss: 6.1217e-12 - val_loss: 2.1866e-12\n",
      "Epoch 129/200\n",
      "10/10 [==============================] - 0s 7ms/step - loss: 6.1041e-12 - val_loss: 2.1715e-12\n",
      "Epoch 130/200\n",
      "10/10 [==============================] - 0s 7ms/step - loss: 6.0872e-12 - val_loss: 2.1566e-12\n",
      "Epoch 131/200\n",
      "10/10 [==============================] - 0s 7ms/step - loss: 6.0874e-12 - val_loss: 2.1419e-12\n",
      "Epoch 132/200\n",
      "10/10 [==============================] - 0s 8ms/step - loss: 6.0555e-12 - val_loss: 2.1274e-12\n",
      "Epoch 133/200\n",
      "10/10 [==============================] - 0s 8ms/step - loss: 6.0402e-12 - val_loss: 2.1128e-12\n",
      "Epoch 134/200\n",
      "10/10 [==============================] - 0s 12ms/step - loss: 6.0309e-12 - val_loss: 2.0987e-12\n",
      "Epoch 135/200\n",
      "10/10 [==============================] - 0s 9ms/step - loss: 6.0342e-12 - val_loss: 2.0849e-12\n",
      "Epoch 136/200\n",
      "10/10 [==============================] - 0s 9ms/step - loss: 6.0182e-12 - val_loss: 2.0712e-12\n",
      "Epoch 137/200\n",
      "10/10 [==============================] - 0s 9ms/step - loss: 6.0090e-12 - val_loss: 2.0574e-12\n",
      "Epoch 138/200\n",
      "10/10 [==============================] - 0s 8ms/step - loss: 5.9848e-12 - val_loss: 2.0441e-12\n",
      "Epoch 139/200\n",
      "10/10 [==============================] - 0s 9ms/step - loss: 5.9757e-12 - val_loss: 2.0310e-12\n",
      "Epoch 140/200\n",
      "10/10 [==============================] - 0s 9ms/step - loss: 5.9710e-12 - val_loss: 2.0181e-12\n",
      "Epoch 141/200\n",
      "10/10 [==============================] - 0s 9ms/step - loss: 5.9780e-12 - val_loss: 2.0054e-12\n",
      "Epoch 142/200\n",
      "10/10 [==============================] - 0s 9ms/step - loss: 5.9697e-12 - val_loss: 1.9925e-12\n",
      "Epoch 143/200\n",
      "10/10 [==============================] - 0s 9ms/step - loss: 5.9553e-12 - val_loss: 1.9802e-12\n",
      "Epoch 144/200\n",
      "10/10 [==============================] - 0s 9ms/step - loss: 5.9662e-12 - val_loss: 1.9680e-12\n",
      "Epoch 145/200\n",
      "10/10 [==============================] - 0s 9ms/step - loss: 5.9625e-12 - val_loss: 1.9561e-12\n",
      "Epoch 146/200\n",
      "10/10 [==============================] - 0s 8ms/step - loss: 5.9413e-12 - val_loss: 1.9442e-12\n",
      "Epoch 147/200\n",
      "10/10 [==============================] - 0s 9ms/step - loss: 5.9353e-12 - val_loss: 1.9323e-12\n",
      "Epoch 148/200\n",
      "10/10 [==============================] - 0s 8ms/step - loss: 5.9403e-12 - val_loss: 1.9208e-12\n",
      "Epoch 149/200\n",
      "10/10 [==============================] - 0s 8ms/step - loss: 5.9625e-12 - val_loss: 1.9095e-12\n",
      "Epoch 150/200\n",
      "10/10 [==============================] - 0s 8ms/step - loss: 5.9390e-12 - val_loss: 1.8984e-12\n",
      "Epoch 151/200\n",
      "10/10 [==============================] - 0s 12ms/step - loss: 5.9641e-12 - val_loss: 1.8871e-12\n",
      "Epoch 152/200\n",
      "10/10 [==============================] - 0s 7ms/step - loss: 5.9442e-12 - val_loss: 1.8763e-12\n",
      "Epoch 153/200\n",
      "10/10 [==============================] - 0s 8ms/step - loss: 5.9506e-12 - val_loss: 1.8657e-12\n",
      "Epoch 154/200\n",
      "10/10 [==============================] - 0s 9ms/step - loss: 5.9586e-12 - val_loss: 1.8553e-12\n",
      "Epoch 155/200\n",
      "10/10 [==============================] - 0s 8ms/step - loss: 5.9894e-12 - val_loss: 1.8450e-12\n",
      "Epoch 156/200\n",
      "10/10 [==============================] - 0s 9ms/step - loss: 5.9971e-12 - val_loss: 1.8345e-12\n",
      "Epoch 157/200\n",
      "10/10 [==============================] - 0s 8ms/step - loss: 6.0097e-12 - val_loss: 1.8246e-12\n",
      "Epoch 158/200\n",
      "10/10 [==============================] - 0s 7ms/step - loss: 5.9850e-12 - val_loss: 1.8147e-12\n",
      "Epoch 159/200\n",
      "10/10 [==============================] - 0s 8ms/step - loss: 6.0013e-12 - val_loss: 1.8051e-12\n",
      "Epoch 160/200\n",
      "10/10 [==============================] - 0s 8ms/step - loss: 6.0110e-12 - val_loss: 1.7956e-12\n",
      "Epoch 161/200\n",
      "10/10 [==============================] - 0s 8ms/step - loss: 6.0551e-12 - val_loss: 1.7859e-12\n",
      "Epoch 162/200\n",
      "10/10 [==============================] - 0s 8ms/step - loss: 6.0697e-12 - val_loss: 1.7767e-12\n",
      "Epoch 163/200\n",
      "10/10 [==============================] - 0s 9ms/step - loss: 6.0796e-12 - val_loss: 1.7677e-12\n",
      "Epoch 164/200\n",
      "10/10 [==============================] - 0s 8ms/step - loss: 6.0676e-12 - val_loss: 1.7588e-12\n",
      "Epoch 165/200\n",
      "10/10 [==============================] - 0s 10ms/step - loss: 6.1208e-12 - val_loss: 1.7497e-12\n",
      "Epoch 166/200\n",
      "10/10 [==============================] - 0s 14ms/step - loss: 6.1061e-12 - val_loss: 1.7411e-12\n",
      "Epoch 167/200\n",
      "10/10 [==============================] - 0s 12ms/step - loss: 6.1233e-12 - val_loss: 1.7327e-12\n",
      "Epoch 168/200\n",
      "10/10 [==============================] - 0s 9ms/step - loss: 6.1726e-12 - val_loss: 1.7243e-12\n",
      "Epoch 169/200\n",
      "10/10 [==============================] - 0s 7ms/step - loss: 6.1923e-12 - val_loss: 1.7162e-12\n",
      "Epoch 170/200\n",
      "10/10 [==============================] - 0s 8ms/step - loss: 6.2294e-12 - val_loss: 1.7079e-12\n",
      "Epoch 171/200\n",
      "10/10 [==============================] - 0s 8ms/step - loss: 6.2140e-12 - val_loss: 1.7000e-12\n",
      "Epoch 172/200\n",
      "10/10 [==============================] - 0s 8ms/step - loss: 6.2427e-12 - val_loss: 1.6923e-12\n",
      "Epoch 173/200\n",
      "10/10 [==============================] - 0s 7ms/step - loss: 6.2710e-12 - val_loss: 1.6847e-12\n",
      "Epoch 174/200\n",
      "10/10 [==============================] - 0s 8ms/step - loss: 6.3415e-12 - val_loss: 1.6772e-12\n",
      "Epoch 175/200\n",
      "10/10 [==============================] - 0s 8ms/step - loss: 6.3355e-12 - val_loss: 1.6697e-12\n",
      "Epoch 176/200\n",
      "10/10 [==============================] - 0s 8ms/step - loss: 6.3541e-12 - val_loss: 1.6625e-12\n",
      "Epoch 177/200\n",
      "10/10 [==============================] - 0s 8ms/step - loss: 6.3982e-12 - val_loss: 1.6555e-12\n",
      "Epoch 178/200\n",
      "10/10 [==============================] - 0s 8ms/step - loss: 6.4611e-12 - val_loss: 1.6486e-12\n",
      "Epoch 179/200\n",
      "10/10 [==============================] - 0s 8ms/step - loss: 6.4884e-12 - val_loss: 1.6419e-12\n",
      "Epoch 180/200\n",
      "10/10 [==============================] - 0s 9ms/step - loss: 6.4917e-12 - val_loss: 1.6350e-12\n",
      "Epoch 181/200\n",
      "10/10 [==============================] - 0s 11ms/step - loss: 6.5766e-12 - val_loss: 1.6286e-12\n",
      "Epoch 182/200\n",
      "10/10 [==============================] - 0s 8ms/step - loss: 6.6175e-12 - val_loss: 1.6222e-12\n",
      "Epoch 183/200\n",
      "10/10 [==============================] - 0s 7ms/step - loss: 6.6119e-12 - val_loss: 1.6161e-12\n",
      "Epoch 184/200\n",
      "10/10 [==============================] - 0s 8ms/step - loss: 6.7008e-12 - val_loss: 1.6098e-12\n",
      "Epoch 185/200\n",
      "10/10 [==============================] - 0s 7ms/step - loss: 6.7287e-12 - val_loss: 1.6039e-12\n",
      "Epoch 186/200\n",
      "10/10 [==============================] - 0s 7ms/step - loss: 6.7330e-12 - val_loss: 1.5982e-12\n",
      "Epoch 187/200\n",
      "10/10 [==============================] - 0s 8ms/step - loss: 6.8000e-12 - val_loss: 1.5926e-12\n",
      "Epoch 188/200\n",
      "10/10 [==============================] - 0s 7ms/step - loss: 6.8894e-12 - val_loss: 1.5871e-12\n",
      "Epoch 189/200\n",
      "10/10 [==============================] - 0s 8ms/step - loss: 6.8786e-12 - val_loss: 1.5816e-12\n",
      "Epoch 190/200\n",
      "10/10 [==============================] - 0s 9ms/step - loss: 6.9747e-12 - val_loss: 1.5764e-12\n",
      "Epoch 191/200\n",
      "10/10 [==============================] - 0s 9ms/step - loss: 7.0351e-12 - val_loss: 1.5713e-12\n",
      "Epoch 192/200\n",
      "10/10 [==============================] - 0s 8ms/step - loss: 7.0900e-12 - val_loss: 1.5664e-12\n",
      "Epoch 193/200\n",
      "10/10 [==============================] - 0s 8ms/step - loss: 7.0956e-12 - val_loss: 1.5615e-12\n",
      "Epoch 194/200\n",
      "10/10 [==============================] - 0s 8ms/step - loss: 7.2085e-12 - val_loss: 1.5569e-12\n",
      "Epoch 195/200\n",
      "10/10 [==============================] - 0s 8ms/step - loss: 7.2512e-12 - val_loss: 1.5524e-12\n",
      "Epoch 196/200\n",
      "10/10 [==============================] - 0s 12ms/step - loss: 7.2808e-12 - val_loss: 1.5480e-12\n",
      "Epoch 197/200\n",
      "10/10 [==============================] - 0s 11ms/step - loss: 7.3231e-12 - val_loss: 1.5439e-12\n",
      "Epoch 198/200\n",
      "10/10 [==============================] - 0s 9ms/step - loss: 7.4593e-12 - val_loss: 1.5396e-12\n",
      "Epoch 199/200\n",
      "10/10 [==============================] - 0s 10ms/step - loss: 7.4763e-12 - val_loss: 1.5358e-12\n",
      "Epoch 200/200\n",
      "10/10 [==============================] - 0s 11ms/step - loss: 7.5284e-12 - val_loss: 1.5320e-12\n"
     ]
    }
   ],
   "source": [
    "hist=model.fit(X_train,y_train,epochs=200,validation_split=0.2)"
   ]
  },
  {
   "cell_type": "code",
   "execution_count": 26,
   "id": "61be95bf-e069-4c81-b210-147a79957f6b",
   "metadata": {},
   "outputs": [
    {
     "data": {
      "text/plain": [
       "[<matplotlib.lines.Line2D at 0x28baa75fe20>]"
      ]
     },
     "execution_count": 26,
     "metadata": {},
     "output_type": "execute_result"
    },
    {
     "data": {
      "image/png": "[encoded data removed]",
      "text/plain": [
       "<Figure size 432x288 with 1 Axes>"
      ]
     },
     "metadata": {
      "needs_background": "light"
     },
     "output_type": "display_data"
    }
   ],
   "source": [
    "plt.plot(hist.history['loss'],label='loss')\n",
    "plt.plot(hist.history['val_loss'],label='val_loss')"
   ]
  },
  {
   "cell_type": "code",
   "execution_count": 28,
   "id": "dfbedabe-f64e-4545-a107-d4d72a670bf4",
   "metadata": {},
   "outputs": [
    {
     "name": "stdout",
     "output_type": "stream",
     "text": [
      "16/16 [==============================] - 0s 2ms/step\n"
     ]
    }
   ],
   "source": [
    "y_pred=model.predict(X)"
   ]
  },
  {
   "cell_type": "code",
   "execution_count": 30,
   "id": "7ea899a6-c38d-4868-9206-8b8017bf6514",
   "metadata": {},
   "outputs": [
    {
     "data": {
      "text/plain": [
       "<matplotlib.collections.PathCollection at 0x28baa8e61f0>"
      ]
     },
     "execution_count": 30,
     "metadata": {},
     "output_type": "execute_result"
    },
    {
     "data": {
      "image/png": "[encoded data removed]",
      "text/plain": [
       "<Figure size 432x288 with 1 Axes>"
      ]
     },
     "metadata": {
      "needs_background": "light"
     },
     "output_type": "display_data"
    }
   ],
   "source": [
    "plt.scatter(X[:,0],X[:,1],s=5,c=y)"
   ]
  },
  {
   "cell_type": "code",
   "execution_count": 32,
   "id": "be8e07f2-22d5-4149-96e7-1d2d8c90a65c",
   "metadata": {},
   "outputs": [
    {
     "name": "stdout",
     "output_type": "stream",
     "text": [
      "1/1 [==============================] - 0s 263ms/step\n"
     ]
    },
    {
     "data": {
      "text/plain": [
       "array([[0.99992085]], dtype=float32)"
      ]
     },
     "execution_count": 32,
     "metadata": {},
     "output_type": "execute_result"
    }
   ],
   "source": [
    "model.predict([[-6,0]])"
   ]
  },
  {
   "cell_type": "code",
   "execution_count": 33,
   "id": "064859de-6d40-4ec2-84fb-1a6a270637e1",
   "metadata": {},
   "outputs": [
    {
     "name": "stdout",
     "output_type": "stream",
     "text": [
      "INFO:tensorflow:Assets written to: tp_bin_class\\assets\n"
     ]
    }
   ],
   "source": [
    "model.save('tp_bin_class')"
   ]
  },
  {
   "cell_type": "code",
   "execution_count": 37,
   "id": "12208049-4ea0-4875-a95d-a034d61a9e92",
   "metadata": {},
   "outputs": [],
   "source": [
    "load=tf.keras.models.load_model('tp_bin_class')"
   ]
  },
  {
   "cell_type": "code",
   "execution_count": 38,
   "id": "b9acaf56-ba94-4b4a-a017-78c5737c9765",
   "metadata": {},
   "outputs": [
    {
     "name": "stdout",
     "output_type": "stream",
     "text": [
      "1/1 [==============================] - 0s 214ms/step\n"
     ]
    },
    {
     "data": {
      "text/plain": [
       "array([[0.99992085]], dtype=float32)"
      ]
     },
     "execution_count": 38,
     "metadata": {},
     "output_type": "execute_result"
    }
   ],
   "source": [
    "load.predict([[-6,0]])"
   ]
  },
  {
   "cell_type": "code",
   "execution_count": null,
   "id": "a88ff614-6a1a-4681-9149-191e0a6745bd",
   "metadata": {},
   "outputs": [],
   "source": []
  }
 ],
 "metadata": {
  "kernelspec": {
   "display_name": "Python 3 (ipykernel)",
   "language": "python",
   "name": "python3"
  },
  "language_info": {
   "codemirror_mode": {
    "name": "ipython",
    "version": 3
   },
   "file_extension": ".py",
   "mimetype": "text/x-python",
   "name": "python",
   "nbconvert_exporter": "python",
   "pygments_lexer": "ipython3",
   "version": "3.9.12"
  }
 },
 "nbformat": 4,
 "nbformat_minor": 5
}
